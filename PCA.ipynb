{
 "cells": [
  {
   "cell_type": "code",
   "execution_count": 1,
   "metadata": {},
   "outputs": [],
   "source": [
    "import os"
   ]
  },
  {
   "cell_type": "code",
   "execution_count": 2,
   "metadata": {},
   "outputs": [],
   "source": [
    "import cv2\n",
    "import numpy as np\n",
    "\n",
    "def get_image(fname):\n",
    "    img = cv2.cvtColor(cv2.imread(fname), cv2.COLOR_BGR2RGB)\n",
    "    if img is None:\n",
    "         return None\n",
    "    img = cv2.resize(img, (224, 224))\n",
    "    img = img[np.newaxis, :]\n",
    "    \n",
    "    return img"
   ]
  },
  {
   "cell_type": "code",
   "execution_count": 3,
   "metadata": {},
   "outputs": [],
   "source": [
    "import glob\n",
    "import os\n",
    "\n",
    "def process_files(folder_name, start_index=0):\n",
    "    \n",
    "    products = []\n",
    "    index = start_index\n",
    "    dim = 2048\n",
    "    xb = np.empty(shape=[0, dim], dtype=np.float32)\n",
    "    \n",
    "    for imgfolderpath in glob.glob(folder_name + '/*'):\n",
    "        productTitle = os.path.basename(imgfolderpath)\n",
    "    \n",
    "        for file in glob.glob(imgfolderpath + '/*'):\n",
    "            try:\n",
    "                img = get_image(file)\n",
    "                product = {}\n",
    "                product['productTitle'] = productTitle\n",
    "                product['imageFileName'] = file\n",
    "\n",
    "                # extract features\n",
    "                features_batch = model.predict([img])\n",
    "                features = features_batch[0]\n",
    "\n",
    "                # the Knn algorithm we'll use requires float32 rather than the default float64\n",
    "                xb = np.append(xb, [features.astype(np.float32)], axis=0)\n",
    "\n",
    "                products.append(product)\n",
    "                index += 1\n",
    "            except:\n",
    "                print(\"Something went wrong with the file: \" + file)            \n",
    "    return (products, xb)"
   ]
  },
  {
   "cell_type": "code",
   "execution_count": 4,
   "metadata": {},
   "outputs": [
    {
     "name": "stderr",
     "output_type": "stream",
     "text": [
      "Using TensorFlow backend.\n"
     ]
    },
    {
     "name": "stdout",
     "output_type": "stream",
     "text": [
      "WARNING:tensorflow:From C:\\Users\\Usrer\\Anaconda3\\envs\\tf_gpu\\lib\\site-packages\\tensorflow_core\\python\\ops\\resource_variable_ops.py:1630: calling BaseResourceVariable.__init__ (from tensorflow.python.ops.resource_variable_ops) with constraint is deprecated and will be removed in a future version.\n",
      "Instructions for updating:\n",
      "If using Keras pass *_constraint arguments to layers.\n",
      "WARNING:tensorflow:From C:\\Users\\Usrer\\Anaconda3\\envs\\tf_gpu\\lib\\site-packages\\keras\\backend\\tensorflow_backend.py:4070: The name tf.nn.max_pool is deprecated. Please use tf.nn.max_pool2d instead.\n",
      "\n"
     ]
    }
   ],
   "source": [
    "from keras.applications.resnet50 import ResNet50\n",
    "model = ResNet50(weights='imagenet', include_top=False, input_shape=(224, 224, 3), pooling=\"avg\")"
   ]
  },
  {
   "cell_type": "code",
   "execution_count": 22,
   "metadata": {},
   "outputs": [
    {
     "name": "stderr",
     "output_type": "stream",
     "text": [
      "  % Total    % Received % Xferd  Average Speed   Time    Time     Time  Current\n",
      "                                 Dload  Upload   Total   Spent    Left  Speed\n",
      "\n",
      "  0     0    0     0    0     0      0      0 --:--:-- --:--:-- --:--:--     0\n",
      "100 11616    0 11616    0     0  11616      0 --:--:-- --:--:-- --:--:-- 14305\n",
      "100 1609k    0 1609k    0     0  1609k      0 --:--:--  0:00:01 --:--:--  919k\n",
      "100 4693k    0 4693k    0     0  2346k      0 --:--:--  0:00:02 --:--:-- 1706k\n",
      "100 7653k    0 7653k    0     0  2551k      0 --:--:--  0:00:03 --:--:-- 2040k\n",
      "100  9.9M    0  9.9M    0     0  2545k      0 --:--:--  0:00:04 --:--:-- 2143k\n",
      "100 12.4M    0 12.4M    0     0  2545k      0 --:--:--  0:00:05 --:--:-- 2574k\n",
      "100 15.0M    0 15.0M    0     0  2568k      0 --:--:--  0:00:06 --:--:-- 2752k\n",
      "100 17.7M    0 17.7M    0     0  2595k      0 --:--:--  0:00:07 --:--:-- 2694k\n",
      "100 20.5M    0 20.5M    0     0  2632k      0 --:--:--  0:00:08 --:--:-- 2681k\n",
      "100 21.6M    0 21.6M    0     0  2468k      0 --:--:--  0:00:09 --:--:-- 2376k\n",
      "100 23.6M    0 23.6M    0     0  2426k      0 --:--:--  0:00:10 --:--:-- 2292k\n",
      "100 25.9M    0 25.9M    0     0  2419k      0 --:--:--  0:00:11 --:--:-- 2246k\n",
      "100 28.6M    0 28.6M    0     0  2441k      0 --:--:--  0:00:12 --:--:-- 2227k\n",
      "100 30.5M    0 30.5M    0     0  2407k      0 --:--:--  0:00:13 --:--:-- 2041k\n",
      "100 32.6M    0 32.6M    0     0  2385k      0 --:--:--  0:00:14 --:--:-- 2250k\n",
      "100 34.7M    0 34.7M    0     0  2370k      0 --:--:--  0:00:15 --:--:-- 2266k\n",
      "100 36.9M    0 36.9M    0     0  2367k      0 --:--:--  0:00:16 --:--:-- 2252k\n",
      "100 39.2M    0 39.2M    0     0  2365k      0 --:--:--  0:00:17 --:--:-- 2175k\n",
      "100 41.4M    0 41.4M    0     0  2356k      0 --:--:--  0:00:18 --:--:-- 2230k\n",
      "100 42.5M    0 42.5M    0     0  2293k      0 --:--:--  0:00:19 --:--:-- 2041k\n",
      "100 44.2M    0 44.2M    0     0  2264k      0 --:--:--  0:00:20 --:--:-- 1951k\n"
     ]
    },
    {
     "name": "stdout",
     "output_type": "stream",
     "text": [
      "  created: transfer-learning-anime-master/cropped (unrecognized)/\n",
      "  created: transfer-learning-anime-master/cropped (unrecognized)/nishikino_maki/\n",
      " inflated: transfer-learning-anime-master/cropped (unrecognized)/nishikino_maki/1.jpg\n",
      " inflated: transfer-learning-anime-master/cropped (unrecognized)/nishikino_maki/3.jpg\n",
      " inflated: transfer-learning-anime-master/cropped (unrecognized)/nishikino_maki/4.jpg\n",
      "  created: transfer-learning-anime-master/cropped (unrecognized)/sakurauchi_riko/\n",
      " inflated: transfer-learning-anime-master/cropped (unrecognized)/sakurauchi_riko/2.jpg\n",
      " inflated: transfer-learning-anime-master/cropped (unrecognized)/sakurauchi_riko/4.jpg\n",
      " inflated: transfer-learning-anime-master/cropped (unrecognized)/sakurauchi_riko/5.jpg\n",
      " inflated: transfer-learning-anime-master/cropped (unrecognized)/sakurauchi_riko/7.jpg\n",
      "  created: transfer-learning-anime-master/cropped (unrecognized)/takimoto_hifumi/\n",
      " inflated: transfer-learning-anime-master/cropped (unrecognized)/takimoto_hifumi/10.jpg\n",
      " inflated: transfer-learning-anime-master/cropped (unrecognized)/takimoto_hifumi/2.jpg\n",
      " inflated: transfer-learning-anime-master/cropped (unrecognized)/takimoto_hifumi/3.jpg\n",
      " inflated: transfer-learning-anime-master/cropped (unrecognized)/takimoto_hifumi/4.jpg\n",
      " inflated: transfer-learning-anime-master/cropped (unrecognized)/takimoto_hifumi/6.jpg\n",
      " inflated: transfer-learning-anime-master/cropped (unrecognized)/takimoto_hifumi/8.jpg\n",
      " inflated: transfer-learning-anime-master/cropped (unrecognized)/takimoto_hifumi/9.jpg\n",
      "  created: transfer-learning-anime-master/cropped/\n",
      "  created: transfer-learning-anime-master/cropped/nishikino_maki/\n",
      " inflated: transfer-learning-anime-master/cropped/nishikino_maki/1.jpg\n",
      " inflated: transfer-learning-anime-master/cropped/nishikino_maki/10.jpg\n",
      " inflated: transfer-learning-anime-master/cropped/nishikino_maki/11.jpg\n",
      " inflated: transfer-learning-anime-master/cropped/nishikino_maki/12.jpg\n",
      " inflated: transfer-learning-anime-master/cropped/nishikino_maki/13.jpg\n",
      " inflated: transfer-learning-anime-master/cropped/nishikino_maki/14.jpg\n",
      " inflated: transfer-learning-anime-master/cropped/nishikino_maki/15.jpg\n",
      " inflated: transfer-learning-anime-master/cropped/nishikino_maki/16.jpg\n",
      " inflated: transfer-learning-anime-master/cropped/nishikino_maki/17.jpg\n",
      " inflated: transfer-learning-anime-master/cropped/nishikino_maki/18.jpg\n",
      " inflated: transfer-learning-anime-master/cropped/nishikino_maki/19.jpg\n",
      " inflated: transfer-learning-anime-master/cropped/nishikino_maki/2.jpg\n",
      " inflated: transfer-learning-anime-master/cropped/nishikino_maki/20.jpg\n",
      " inflated: transfer-learning-anime-master/cropped/nishikino_maki/21.jpg\n",
      " inflated: transfer-learning-anime-master/cropped/nishikino_maki/22.jpg\n",
      " inflated: transfer-learning-anime-master/cropped/nishikino_maki/23.jpg\n",
      " inflated: transfer-learning-anime-master/cropped/nishikino_maki/24.jpg\n",
      " inflated: transfer-learning-anime-master/cropped/nishikino_maki/25.jpg\n",
      " inflated: transfer-learning-anime-master/cropped/nishikino_maki/26.jpg\n",
      " inflated: transfer-learning-anime-master/cropped/nishikino_maki/27.jpg\n",
      " inflated: transfer-learning-anime-master/cropped/nishikino_maki/28.jpg\n",
      " inflated: transfer-learning-anime-master/cropped/nishikino_maki/29.jpg\n",
      " inflated: transfer-learning-anime-master/cropped/nishikino_maki/3.jpg\n",
      " inflated: transfer-learning-anime-master/cropped/nishikino_maki/30.jpg\n",
      " inflated: transfer-learning-anime-master/cropped/nishikino_maki/31.jpg\n",
      " inflated: transfer-learning-anime-master/cropped/nishikino_maki/32.jpg\n",
      " inflated: transfer-learning-anime-master/cropped/nishikino_maki/33.jpg\n",
      " inflated: transfer-learning-anime-master/cropped/nishikino_maki/34.jpg\n",
      " inflated: transfer-learning-anime-master/cropped/nishikino_maki/35.jpg\n",
      " inflated: transfer-learning-anime-master/cropped/nishikino_maki/36.jpg\n",
      " inflated: transfer-learning-anime-master/cropped/nishikino_maki/4.jpg\n",
      " inflated: transfer-learning-anime-master/cropped/nishikino_maki/5.jpg\n",
      " inflated: transfer-learning-anime-master/cropped/nishikino_maki/6.jpg\n",
      " inflated: transfer-learning-anime-master/cropped/nishikino_maki/7.jpg\n",
      " inflated: transfer-learning-anime-master/cropped/nishikino_maki/8.jpg\n",
      " inflated: transfer-learning-anime-master/cropped/nishikino_maki/9.jpg\n",
      "  created: transfer-learning-anime-master/cropped/sakurauchi_riko/\n",
      " inflated: transfer-learning-anime-master/cropped/sakurauchi_riko/1.jpg\n",
      " inflated: transfer-learning-anime-master/cropped/sakurauchi_riko/10.jpg\n",
      " inflated: transfer-learning-anime-master/cropped/sakurauchi_riko/11.jpg\n",
      " inflated: transfer-learning-anime-master/cropped/sakurauchi_riko/12.jpg\n",
      " inflated: transfer-learning-anime-master/cropped/sakurauchi_riko/13.jpg\n",
      " inflated: transfer-learning-anime-master/cropped/sakurauchi_riko/14.jpg\n",
      " inflated: transfer-learning-anime-master/cropped/sakurauchi_riko/15.jpg\n",
      " inflated: transfer-learning-anime-master/cropped/sakurauchi_riko/16.jpg\n",
      " inflated: transfer-learning-anime-master/cropped/sakurauchi_riko/17.jpg\n",
      " inflated: transfer-learning-anime-master/cropped/sakurauchi_riko/18.jpg\n",
      " inflated: transfer-learning-anime-master/cropped/sakurauchi_riko/19.jpg\n",
      " inflated: transfer-learning-anime-master/cropped/sakurauchi_riko/2.jpg\n",
      " inflated: transfer-learning-anime-master/cropped/sakurauchi_riko/20.jpg\n",
      " inflated: transfer-learning-anime-master/cropped/sakurauchi_riko/21.jpg\n",
      " inflated: transfer-learning-anime-master/cropped/sakurauchi_riko/22.jpg\n",
      " inflated: transfer-learning-anime-master/cropped/sakurauchi_riko/23.jpg\n",
      " inflated: transfer-learning-anime-master/cropped/sakurauchi_riko/24.jpg\n",
      " inflated: transfer-learning-anime-master/cropped/sakurauchi_riko/25.jpg\n",
      " inflated: transfer-learning-anime-master/cropped/sakurauchi_riko/26.jpg\n",
      " inflated: transfer-learning-anime-master/cropped/sakurauchi_riko/27.jpg\n",
      " inflated: transfer-learning-anime-master/cropped/sakurauchi_riko/28.jpg\n",
      " inflated: transfer-learning-anime-master/cropped/sakurauchi_riko/29.jpg\n",
      " inflated: transfer-learning-anime-master/cropped/sakurauchi_riko/3.jpg\n",
      " inflated: transfer-learning-anime-master/cropped/sakurauchi_riko/30.jpg\n",
      " inflated: transfer-learning-anime-master/cropped/sakurauchi_riko/31.jpg\n",
      " inflated: transfer-learning-anime-master/cropped/sakurauchi_riko/32.jpg\n",
      " inflated: transfer-learning-anime-master/cropped/sakurauchi_riko/33.jpg\n",
      " inflated: transfer-learning-anime-master/cropped/sakurauchi_riko/34.jpg\n",
      " inflated: transfer-learning-anime-master/cropped/sakurauchi_riko/35.jpg\n",
      " inflated: transfer-learning-anime-master/cropped/sakurauchi_riko/36.jpg\n",
      " inflated: transfer-learning-anime-master/cropped/sakurauchi_riko/4.jpg\n",
      " inflated: transfer-learning-anime-master/cropped/sakurauchi_riko/5.jpg\n",
      " inflated: transfer-learning-anime-master/cropped/sakurauchi_riko/6.jpg\n",
      " inflated: transfer-learning-anime-master/cropped/sakurauchi_riko/7.jpg\n",
      " inflated: transfer-learning-anime-master/cropped/sakurauchi_riko/8.jpg\n",
      " inflated: transfer-learning-anime-master/cropped/sakurauchi_riko/9.jpg\n",
      "  created: transfer-learning-anime-master/cropped/takimoto_hifumi/\n",
      " inflated: transfer-learning-anime-master/cropped/takimoto_hifumi/1.jpg\n",
      " inflated: transfer-learning-anime-master/cropped/takimoto_hifumi/10.jpg\n",
      " inflated: transfer-learning-anime-master/cropped/takimoto_hifumi/11.jpg\n",
      " inflated: transfer-learning-anime-master/cropped/takimoto_hifumi/12.jpg\n",
      " inflated: transfer-learning-anime-master/cropped/takimoto_hifumi/13.jpg\n",
      " inflated: transfer-learning-anime-master/cropped/takimoto_hifumi/14.jpg\n",
      " inflated: transfer-learning-anime-master/cropped/takimoto_hifumi/15.jpg\n",
      " inflated: transfer-learning-anime-master/cropped/takimoto_hifumi/16.jpg\n",
      " inflated: transfer-learning-anime-master/cropped/takimoto_hifumi/17.jpg\n",
      " inflated: transfer-learning-anime-master/cropped/takimoto_hifumi/18.jpg\n",
      " inflated: transfer-learning-anime-master/cropped/takimoto_hifumi/19.jpg\n",
      " inflated: transfer-learning-anime-master/cropped/takimoto_hifumi/2.jpg\n",
      " inflated: transfer-learning-anime-master/cropped/takimoto_hifumi/20.jpg\n",
      " inflated: transfer-learning-anime-master/cropped/takimoto_hifumi/21.jpg\n",
      " inflated: transfer-learning-anime-master/cropped/takimoto_hifumi/22.jpg\n",
      " inflated: transfer-learning-anime-master/cropped/takimoto_hifumi/23.jpg\n",
      " inflated: transfer-learning-anime-master/cropped/takimoto_hifumi/24.jpg\n",
      " inflated: transfer-learning-anime-master/cropped/takimoto_hifumi/25.jpg\n",
      " inflated: transfer-learning-anime-master/cropped/takimoto_hifumi/26.jpg\n",
      " inflated: transfer-learning-anime-master/cropped/takimoto_hifumi/27.jpg\n",
      " inflated: transfer-learning-anime-master/cropped/takimoto_hifumi/28.jpg\n",
      " inflated: transfer-learning-anime-master/cropped/takimoto_hifumi/29.jpg\n",
      " inflated: transfer-learning-anime-master/cropped/takimoto_hifumi/3.jpg\n",
      " inflated: transfer-learning-anime-master/cropped/takimoto_hifumi/30.jpg\n",
      " inflated: transfer-learning-anime-master/cropped/takimoto_hifumi/31.jpg\n",
      " inflated: transfer-learning-anime-master/cropped/takimoto_hifumi/32.jpg\n",
      " inflated: transfer-learning-anime-master/cropped/takimoto_hifumi/33.jpg\n",
      " inflated: transfer-learning-anime-master/cropped/takimoto_hifumi/34.jpg\n",
      " inflated: transfer-learning-anime-master/cropped/takimoto_hifumi/35.jpg\n",
      " inflated: transfer-learning-anime-master/cropped/takimoto_hifumi/36.jpg\n",
      " inflated: transfer-learning-anime-master/cropped/takimoto_hifumi/4.jpg\n",
      " inflated: transfer-learning-anime-master/cropped/takimoto_hifumi/5.jpg\n",
      " inflated: transfer-learning-anime-master/cropped/takimoto_hifumi/6.jpg\n",
      " inflated: transfer-learning-anime-master/cropped/takimoto_hifumi/7.jpg\n",
      " inflated: transfer-learning-anime-master/cropped/takimoto_hifumi/8.jpg\n",
      " inflated: transfer-learning-anime-master/cropped/takimoto_hifumi/9.jpg\n"
     ]
    },
    {
     "name": "stderr",
     "output_type": "stream",
     "text": [
      "100 46.3M    0 46.3M    0     0  2260k      0 --:--:--  0:00:21 --:--:-- 1919k\n",
      "100 48.4M    0 48.4M    0     0  2256k      0 --:--:--  0:00:22 --:--:-- 1890k\n",
      "100 50.6M    0 50.6M    0     0  2254k      0 --:--:--  0:00:23 --:--:-- 1876k\n",
      "100 52.8M    0 52.8M    0     0  2253k      0 --:--:--  0:00:24 --:--:-- 2108k\n",
      "100 55.1M    0 55.1M    0     0  2258k      0 --:--:--  0:00:25 --:--:-- 2233k\n",
      "100 57.4M    0 57.4M    0     0  2261k      0 --:--:--  0:00:26 --:--:-- 2258k\n",
      "100 59.6M    0 59.6M    0     0  2263k      0 --:--:--  0:00:27 --:--:-- 2273k\n",
      "100 62.0M    0 62.0M    0     0  2267k      0 --:--:--  0:00:28 --:--:-- 2333k\n",
      "100 63.4M    0 63.4M    0     0  2241k      0 --:--:--  0:00:29 --:--:-- 2185k\n",
      "100 64.2M    0 64.2M    0     0  2192k      0 --:--:--  0:00:30 --:--:-- 2139k\n",
      "curl: (23) Failed writing body (2890 != 16384)\n"
     ]
    }
   ],
   "source": [
    "if not os.path.exists('./transfer-learning-anime-master'):\n",
    "    !curl https://codeload.github.com/freedomofkeima/transfer-learning-anime/zip/master | jar xv transfer-learning-anime-master/cropped"
   ]
  },
  {
   "cell_type": "code",
   "execution_count": 23,
   "metadata": {},
   "outputs": [],
   "source": [
    "products, train_features = process_files('./transfer-learning-anime-master/cropped')"
   ]
  },
  {
   "cell_type": "code",
   "execution_count": 24,
   "metadata": {},
   "outputs": [],
   "source": [
    "n_components = 50\n",
    "whiten = False\n",
    "random_state = 2018"
   ]
  },
  {
   "cell_type": "code",
   "execution_count": 25,
   "metadata": {},
   "outputs": [],
   "source": [
    "from sklearn.decomposition import PCA\n",
    "\n",
    "pca = PCA(n_components=n_components, whiten=whiten, random_state=random_state)"
   ]
  },
  {
   "cell_type": "code",
   "execution_count": 26,
   "metadata": {},
   "outputs": [],
   "source": [
    "X_train_PCA = pca.fit_transform(train_features)"
   ]
  },
  {
   "cell_type": "code",
   "execution_count": 27,
   "metadata": {},
   "outputs": [
    {
     "name": "stdout",
     "output_type": "stream",
     "text": [
      "Variance Explained by principal components:  0.8797848066315055\n"
     ]
    }
   ],
   "source": [
    "print(\"Variance Explained by principal components: \", sum(pca.explained_variance_ratio_))"
   ]
  },
  {
   "cell_type": "code",
   "execution_count": 28,
   "metadata": {},
   "outputs": [],
   "source": [
    "import pandas as pd"
   ]
  },
  {
   "cell_type": "code",
   "execution_count": 29,
   "metadata": {},
   "outputs": [
    {
     "name": "stdout",
     "output_type": "stream",
     "text": [
      "Variance Captured by First 2 Principal Components:  [0.21845111]\n",
      "Variance Captured by First 3 Principal Components:  [0.2760514]\n",
      "Variance Captured by First 5 Principal Components:  [0.37045586]\n",
      "Variance Captured by First 10 Principal Components:  [0.5164111]\n",
      "Variance Captured by First 20 Principal Components:  [0.6812889]\n",
      "Variance Captured by First 30 Principal Components:  [0.77359915]\n"
     ]
    }
   ],
   "source": [
    "# Percentage of Variance Captured by X principal components\n",
    "importanceOfPrincipalComponents = pd.DataFrame(data=pca.explained_variance_ratio_)\n",
    "importanceOfPrincipalComponents = importanceOfPrincipalComponents.T\n",
    "\n",
    "print('Variance Captured by First 2 Principal Components: ',\n",
    "      importanceOfPrincipalComponents.loc[:,0:1].sum(axis=1).values)\n",
    "print('Variance Captured by First 3 Principal Components: ',\n",
    "      importanceOfPrincipalComponents.loc[:,0:2].sum(axis=1).values)\n",
    "print('Variance Captured by First 5 Principal Components: ',\n",
    "      importanceOfPrincipalComponents.loc[:,0:4].sum(axis=1).values)\n",
    "print('Variance Captured by First 10 Principal Components: ',\n",
    "      importanceOfPrincipalComponents.loc[:,0:9].sum(axis=1).values)\n",
    "print('Variance Captured by First 20 Principal Components: ',\n",
    "      importanceOfPrincipalComponents.loc[:,0:19].sum(axis=1).values)\n",
    "print('Variance Captured by First 30 Principal Components: ',\n",
    "      importanceOfPrincipalComponents.loc[:,0:29].sum(axis=1).values)"
   ]
  },
  {
   "cell_type": "code",
   "execution_count": 30,
   "metadata": {},
   "outputs": [
    {
     "data": {
      "text/plain": [
       "'3d-scatter-pca.html'"
      ]
     },
     "execution_count": 30,
     "metadata": {},
     "output_type": "execute_result"
    }
   ],
   "source": [
    "df = pd.DataFrame(products)\n",
    "texts = df[\"imageFileName\"]\n",
    "\n",
    "li, uniques = pd.factorize(df['productTitle'])\n",
    "\n",
    "li = (li * 99) // (len(uniques) - 1)\n",
    "\n",
    "import plotly.graph_objs as go\n",
    "from plotly.offline import plot\n",
    "\n",
    "scatter = go.Scatter3d(\n",
    "    x=X_train_PCA[:,0],\n",
    "    y=X_train_PCA[:,1],\n",
    "    z=X_train_PCA[:,2],\n",
    "    mode='markers',\n",
    "    text=texts,\n",
    "    marker=dict(\n",
    "        size=8,\n",
    "        color=li,                # set color to an array/list of desired values\n",
    "        colorscale='Viridis',   # choose a colorscale\n",
    "        opacity=0.8\n",
    "    ))\n",
    "\n",
    "fig = go.Figure(data=[scatter])\n",
    "\n",
    "plot(fig, filename='3d-scatter-pca.html')"
   ]
  },
  {
   "cell_type": "code",
   "execution_count": null,
   "metadata": {},
   "outputs": [],
   "source": []
  }
 ],
 "metadata": {
  "kernelspec": {
   "display_name": "Python 3",
   "language": "python",
   "name": "python3"
  },
  "language_info": {
   "codemirror_mode": {
    "name": "ipython",
    "version": 3
   },
   "file_extension": ".py",
   "mimetype": "text/x-python",
   "name": "python",
   "nbconvert_exporter": "python",
   "pygments_lexer": "ipython3",
   "version": "3.7.7"
  }
 },
 "nbformat": 4,
 "nbformat_minor": 4
}
