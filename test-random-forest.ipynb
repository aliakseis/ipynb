{
 "cells": [
  {
   "cell_type": "code",
   "execution_count": 1,
   "metadata": {},
   "outputs": [
    {
     "name": "stderr",
     "output_type": "stream",
     "text": [
      "Using TensorFlow backend.\n"
     ]
    },
    {
     "name": "stdout",
     "output_type": "stream",
     "text": [
      "WARNING:tensorflow:From C:\\Users\\Usrer\\Anaconda3\\envs\\tf_gpu\\lib\\site-packages\\tensorflow_core\\python\\ops\\resource_variable_ops.py:1630: calling BaseResourceVariable.__init__ (from tensorflow.python.ops.resource_variable_ops) with constraint is deprecated and will be removed in a future version.\n",
      "Instructions for updating:\n",
      "If using Keras pass *_constraint arguments to layers.\n",
      "WARNING:tensorflow:From C:\\Users\\Usrer\\Anaconda3\\envs\\tf_gpu\\lib\\site-packages\\keras\\backend\\tensorflow_backend.py:4070: The name tf.nn.max_pool is deprecated. Please use tf.nn.max_pool2d instead.\n",
      "\n"
     ]
    }
   ],
   "source": [
    "from keras.applications.resnet50 import ResNet50\n",
    "model = ResNet50(weights='imagenet', include_top=False, input_shape=(224, 224, 3), pooling=\"avg\")"
   ]
  },
  {
   "cell_type": "code",
   "execution_count": 2,
   "metadata": {},
   "outputs": [],
   "source": [
    "%matplotlib inline\n",
    "import matplotlib.pyplot as plt\n",
    "import cv2\n",
    "import numpy as np\n",
    "\n",
    "def get_image(fname, show=False):\n",
    "    img = cv2.cvtColor(cv2.imread(fname), cv2.COLOR_BGR2RGB)\n",
    "    if img is None:\n",
    "         return None\n",
    "    if show:\n",
    "         plt.imshow(img)\n",
    "         plt.axis('off')\n",
    "    img = cv2.resize(img, (224, 224))\n",
    "    #img = np.swapaxes(img, 0, 2)\n",
    "    #img = np.swapaxes(img, 1, 2)\n",
    "    img = img[np.newaxis, :]\n",
    "    \n",
    "    #img = img.astype('float32') / 255.\n",
    "    \n",
    "    return img"
   ]
  },
  {
   "cell_type": "code",
   "execution_count": 3,
   "metadata": {},
   "outputs": [],
   "source": [
    "import glob\n",
    "import os\n",
    "\n",
    "def process_files(folder_name, start_index=0):\n",
    "    \n",
    "    products = []\n",
    "    index = start_index\n",
    "    dim = 2048\n",
    "    xb = np.empty(shape=[0, dim], dtype=np.float32)\n",
    "    \n",
    "    for imgfolderpath in glob.glob(folder_name + '/*'):\n",
    "        productTitle = os.path.basename(imgfolderpath)\n",
    "    \n",
    "        for file in glob.glob(imgfolderpath + '/*'):\n",
    "        #with open(file_name) as file:\n",
    "        #for line in file:\n",
    "            try:\n",
    "                img = get_image(file)\n",
    "                product = {}\n",
    "                #fields = line.split(',')\n",
    "                product['id'] = str(index)\n",
    "                product['productTitle'] = productTitle #fields[0].strip()\n",
    "                product['imageUrl'] = file #fields[1].strip()\n",
    "                # download image to be featurized and preprocess it\n",
    "                #file = mx.test_utils.download(product['imageUrl'])\n",
    "                product['imageFileName'] = file\n",
    "                # extract features\n",
    "\n",
    "                features_batch = model.predict([img])\n",
    "                features = features_batch[0]\n",
    "\n",
    "                # the Knn algorithm we'll use requires float32 rather than the default float64\n",
    "                xb = np.append(xb, [features.astype(np.float32)], axis=0)\n",
    "\n",
    "                products.append(product)\n",
    "                index += 1\n",
    "            except:\n",
    "                print(\"Something went wrong with the file: \" + file)            \n",
    "    return (products, xb)"
   ]
  },
  {
   "cell_type": "code",
   "execution_count": 4,
   "metadata": {},
   "outputs": [
    {
     "name": "stdout",
     "output_type": "stream",
     "text": [
      "WARNING:tensorflow:From C:\\Users\\Usrer\\Anaconda3\\envs\\tf_gpu\\lib\\site-packages\\keras\\backend\\tensorflow_backend.py:422: The name tf.global_variables is deprecated. Please use tf.compat.v1.global_variables instead.\n",
      "\n"
     ]
    }
   ],
   "source": [
    "products, train_features = process_files('/dataset/10classes')"
   ]
  },
  {
   "cell_type": "code",
   "execution_count": 5,
   "metadata": {},
   "outputs": [],
   "source": [
    "import sklearn\n",
    "import sklearn.preprocessing"
   ]
  },
  {
   "cell_type": "code",
   "execution_count": 6,
   "metadata": {},
   "outputs": [],
   "source": [
    "Y = []\n",
    "for product in products:\n",
    "    Y.append(product['productTitle'])"
   ]
  },
  {
   "cell_type": "code",
   "execution_count": 7,
   "metadata": {},
   "outputs": [],
   "source": [
    "from sklearn import datasets\n",
    "from sklearn.model_selection import train_test_split\n",
    "from sklearn.neighbors import KNeighborsClassifier\n",
    "from sklearn import metrics                \n",
    "\n",
    "\n",
    "x_train, x_test, y_train, y_test = train_test_split(train_features, Y, test_size=0.2, random_state=42)"
   ]
  },
  {
   "cell_type": "code",
   "execution_count": 25,
   "metadata": {},
   "outputs": [],
   "source": [
    "#Import Random Forest Model\n",
    "from sklearn.ensemble import RandomForestClassifier\n",
    "\n",
    "#Create a Gaussian Classifier\n",
    "clf=RandomForestClassifier(n_estimators=100)"
   ]
  },
  {
   "cell_type": "code",
   "execution_count": 26,
   "metadata": {},
   "outputs": [
    {
     "data": {
      "text/plain": [
       "RandomForestClassifier(bootstrap=True, ccp_alpha=0.0, class_weight=None,\n",
       "                       criterion='gini', max_depth=None, max_features='auto',\n",
       "                       max_leaf_nodes=None, max_samples=None,\n",
       "                       min_impurity_decrease=0.0, min_impurity_split=None,\n",
       "                       min_samples_leaf=1, min_samples_split=2,\n",
       "                       min_weight_fraction_leaf=0.0, n_estimators=50,\n",
       "                       n_jobs=None, oob_score=False, random_state=None,\n",
       "                       verbose=0, warm_start=False)"
      ]
     },
     "execution_count": 26,
     "metadata": {},
     "output_type": "execute_result"
    }
   ],
   "source": [
    "clf.fit(x_train,y_train)\n"
   ]
  },
  {
   "cell_type": "code",
   "execution_count": 27,
   "metadata": {},
   "outputs": [],
   "source": [
    "y_pred=clf.predict(x_test)"
   ]
  },
  {
   "cell_type": "code",
   "execution_count": 28,
   "metadata": {},
   "outputs": [
    {
     "name": "stdout",
     "output_type": "stream",
     "text": [
      "Accuracy= 0.889273356401384\n"
     ]
    }
   ],
   "source": [
    "acc = metrics.accuracy_score(y_test, y_pred)\n",
    "print(\"Accuracy=\", acc)"
   ]
  },
  {
   "cell_type": "code",
   "execution_count": null,
   "metadata": {},
   "outputs": [
    {
     "name": "stdout",
     "output_type": "stream",
     "text": [
      "Accuracy= 0.8961937716262975  with n= 100\n",
      "Accuracy= 0.903114186851211  with n= 150\n",
      "Accuracy= 0.9065743944636678  with n= 200\n",
      "Accuracy= 0.9100346020761245  with n= 250\n",
      "Accuracy= 0.9204152249134948  with n= 300\n",
      "Accuracy= 0.9100346020761245  with n= 350\n",
      "Accuracy= 0.9134948096885813  with n= 400\n",
      "Accuracy= 0.9134948096885813  with n= 450\n",
      "Accuracy= 0.9100346020761245  with n= 500\n",
      "Accuracy= 0.9204152249134948  with n= 550\n",
      "Accuracy= 0.916955017301038  with n= 600\n",
      "Accuracy= 0.9100346020761245  with n= 650\n",
      "Accuracy= 0.9134948096885813  with n= 700\n",
      "Accuracy= 0.9134948096885813  with n= 750\n",
      "Accuracy= 0.9134948096885813  with n= 800\n",
      "Accuracy= 0.9238754325259516  with n= 850\n",
      "Accuracy= 0.9134948096885813  with n= 900\n",
      "Accuracy= 0.903114186851211  with n= 950\n",
      "Accuracy= 0.916955017301038  with n= 1000\n",
      "Accuracy= 0.9100346020761245  with n= 1050\n",
      "Accuracy= 0.9100346020761245  with n= 1100\n",
      "Accuracy= 0.9065743944636678  with n= 1150\n",
      "Accuracy= 0.916955017301038  with n= 1200\n",
      "Accuracy= 0.9204152249134948  with n= 1250\n",
      "Accuracy= 0.9065743944636678  with n= 1300\n",
      "Accuracy= 0.9204152249134948  with n= 1350\n",
      "Accuracy= 0.9065743944636678  with n= 1400\n",
      "Accuracy= 0.916955017301038  with n= 1450\n",
      "Accuracy= 0.9134948096885813  with n= 1500\n",
      "Accuracy= 0.9134948096885813  with n= 1550\n",
      "Accuracy= 0.9204152249134948  with n= 1600\n",
      "Accuracy= 0.9100346020761245  with n= 1650\n",
      "Accuracy= 0.9100346020761245  with n= 1700\n",
      "Accuracy= 0.9204152249134948  with n= 1750\n",
      "Accuracy= 0.916955017301038  with n= 1800\n",
      "Accuracy= 0.916955017301038  with n= 1850\n",
      "Accuracy= 0.9100346020761245  with n= 1900\n",
      "Accuracy= 0.9100346020761245  with n= 1950\n",
      "Accuracy= 0.9204152249134948  with n= 2000\n",
      "Accuracy= 0.9100346020761245  with n= 2050\n",
      "Accuracy= 0.9204152249134948  with n= 2100\n",
      "Accuracy= 0.916955017301038  with n= 2150\n",
      "Accuracy= 0.9134948096885813  with n= 2200\n",
      "Accuracy= 0.916955017301038  with n= 2250\n",
      "Accuracy= 0.9100346020761245  with n= 2300\n",
      "Accuracy= 0.916955017301038  with n= 2350\n",
      "Accuracy= 0.916955017301038  with n= 2400\n",
      "Accuracy= 0.916955017301038  with n= 2450\n",
      "Accuracy= 0.9134948096885813  with n= 2500\n",
      "Accuracy= 0.9134948096885813  with n= 2550\n",
      "Accuracy= 0.9204152249134948  with n= 2600\n",
      "Accuracy= 0.916955017301038  with n= 2650\n",
      "Accuracy= 0.9100346020761245  with n= 2700\n",
      "Accuracy= 0.9134948096885813  with n= 2750\n",
      "Accuracy= 0.916955017301038  with n= 2800\n",
      "Accuracy= 0.9100346020761245  with n= 2850\n",
      "Accuracy= 0.9100346020761245  with n= 2900\n",
      "Accuracy= 0.9134948096885813  with n= 2950\n",
      "Accuracy= 0.9204152249134948  with n= 3000\n",
      "Accuracy= 0.9100346020761245  with n= 3050\n",
      "Accuracy= 0.9134948096885813  with n= 3100\n",
      "Accuracy= 0.9100346020761245  with n= 3150\n",
      "Accuracy= 0.9134948096885813  with n= 3200\n",
      "Accuracy= 0.9100346020761245  with n= 3250\n",
      "Accuracy= 0.916955017301038  with n= 3300\n",
      "Accuracy= 0.916955017301038  with n= 3350\n",
      "Accuracy= 0.9100346020761245  with n= 3400\n",
      "Accuracy= 0.916955017301038  with n= 3450\n",
      "Accuracy= 0.9204152249134948  with n= 3500\n",
      "Accuracy= 0.9204152249134948  with n= 3550\n",
      "Accuracy= 0.9238754325259516  with n= 3600\n",
      "Accuracy= 0.916955017301038  with n= 3650\n",
      "Accuracy= 0.9134948096885813  with n= 3700\n",
      "Accuracy= 0.916955017301038  with n= 3750\n",
      "Accuracy= 0.9134948096885813  with n= 3800\n",
      "Accuracy= 0.916955017301038  with n= 3850\n",
      "Accuracy= 0.916955017301038  with n= 3900\n",
      "Accuracy= 0.9134948096885813  with n= 3950\n",
      "Accuracy= 0.916955017301038  with n= 4000\n",
      "Accuracy= 0.9204152249134948  with n= 4050\n",
      "Accuracy= 0.916955017301038  with n= 4100\n",
      "Accuracy= 0.9134948096885813  with n= 4150\n",
      "Accuracy= 0.9065743944636678  with n= 4200\n",
      "Accuracy= 0.9100346020761245  with n= 4250\n",
      "Accuracy= 0.916955017301038  with n= 4300\n",
      "Accuracy= 0.9134948096885813  with n= 4350\n",
      "Accuracy= 0.916955017301038  with n= 4400\n",
      "Accuracy= 0.9134948096885813  with n= 4450\n",
      "Accuracy= 0.9100346020761245  with n= 4500\n",
      "Accuracy= 0.9134948096885813  with n= 4550\n",
      "Accuracy= 0.916955017301038  with n= 4600\n",
      "Accuracy= 0.916955017301038  with n= 4650\n",
      "Accuracy= 0.9134948096885813  with n= 4700\n",
      "Accuracy= 0.9134948096885813  with n= 4750\n",
      "Accuracy= 0.9100346020761245  with n= 4800\n",
      "Accuracy= 0.9204152249134948  with n= 4850\n",
      "Accuracy= 0.916955017301038  with n= 4900\n",
      "Accuracy= 0.916955017301038  with n= 4950\n",
      "Accuracy= 0.916955017301038  with n= 5000\n",
      "Accuracy= 0.9238754325259516  with n= 5050\n",
      "Accuracy= 0.9100346020761245  with n= 5100\n",
      "Accuracy= 0.916955017301038  with n= 5150\n",
      "Accuracy= 0.9134948096885813  with n= 5200\n",
      "Accuracy= 0.9100346020761245  with n= 5250\n",
      "Accuracy= 0.916955017301038  with n= 5300\n",
      "Accuracy= 0.9100346020761245  with n= 5350\n",
      "Accuracy= 0.9204152249134948  with n= 5400\n",
      "Accuracy= 0.9134948096885813  with n= 5450\n",
      "Accuracy= 0.9065743944636678  with n= 5500\n",
      "Accuracy= 0.9134948096885813  with n= 5550\n",
      "Accuracy= 0.9100346020761245  with n= 5600\n",
      "Accuracy= 0.916955017301038  with n= 5650\n",
      "Accuracy= 0.9134948096885813  with n= 5700\n",
      "Accuracy= 0.9134948096885813  with n= 5750\n",
      "Accuracy= 0.916955017301038  with n= 5800\n",
      "Accuracy= 0.9134948096885813  with n= 5850\n",
      "Accuracy= 0.916955017301038  with n= 5900\n",
      "Accuracy= 0.9204152249134948  with n= 5950\n",
      "Accuracy= 0.9065743944636678  with n= 6000\n",
      "Accuracy= 0.9204152249134948  with n= 6050\n",
      "Accuracy= 0.916955017301038  with n= 6100\n",
      "Accuracy= 0.9134948096885813  with n= 6150\n",
      "Accuracy= 0.9134948096885813  with n= 6200\n",
      "Accuracy= 0.916955017301038  with n= 6250\n",
      "Accuracy= 0.9134948096885813  with n= 6300\n",
      "Accuracy= 0.916955017301038  with n= 6350\n",
      "Accuracy= 0.916955017301038  with n= 6400\n",
      "Accuracy= 0.9204152249134948  with n= 6450\n",
      "Accuracy= 0.9204152249134948  with n= 6500\n",
      "Accuracy= 0.916955017301038  with n= 6550\n",
      "Accuracy= 0.9134948096885813  with n= 6600\n",
      "Accuracy= 0.9134948096885813  with n= 6650\n",
      "Accuracy= 0.9100346020761245  with n= 6700\n",
      "Accuracy= 0.9134948096885813  with n= 6750\n",
      "Accuracy= 0.916955017301038  with n= 6800\n",
      "Accuracy= 0.9134948096885813  with n= 6850\n",
      "Accuracy= 0.916955017301038  with n= 6900\n",
      "Accuracy= 0.916955017301038  with n= 6950\n",
      "Accuracy= 0.9238754325259516  with n= 7000\n",
      "Accuracy= 0.916955017301038  with n= 7050\n",
      "Accuracy= 0.9100346020761245  with n= 7100\n",
      "Accuracy= 0.916955017301038  with n= 7150\n",
      "Accuracy= 0.916955017301038  with n= 7200\n",
      "Accuracy= 0.9204152249134948  with n= 7250\n",
      "Accuracy= 0.916955017301038  with n= 7300\n",
      "Accuracy= 0.916955017301038  with n= 7350\n",
      "Accuracy= 0.9100346020761245  with n= 7400\n",
      "Accuracy= 0.916955017301038  with n= 7450\n",
      "Accuracy= 0.9100346020761245  with n= 7500\n",
      "Accuracy= 0.9134948096885813  with n= 7550\n",
      "Accuracy= 0.9134948096885813  with n= 7600\n",
      "Accuracy= 0.9204152249134948  with n= 7650\n",
      "Accuracy= 0.9134948096885813  with n= 7700\n",
      "Accuracy= 0.916955017301038  with n= 7750\n",
      "Accuracy= 0.9134948096885813  with n= 7800\n",
      "Accuracy= 0.916955017301038  with n= 7850\n",
      "Accuracy= 0.916955017301038  with n= 7900\n",
      "Accuracy= 0.9204152249134948  with n= 7950\n",
      "Accuracy= 0.916955017301038  with n= 8000\n",
      "Accuracy= 0.916955017301038  with n= 8050\n",
      "Accuracy= 0.9134948096885813  with n= 8100\n",
      "Accuracy= 0.9204152249134948  with n= 8150\n",
      "Accuracy= 0.9134948096885813  with n= 8200\n",
      "Accuracy= 0.916955017301038  with n= 8250\n",
      "Accuracy= 0.9134948096885813  with n= 8300\n",
      "Accuracy= 0.9204152249134948  with n= 8350\n",
      "Accuracy= 0.9065743944636678  with n= 8400\n",
      "Accuracy= 0.9100346020761245  with n= 8450\n",
      "Accuracy= 0.9204152249134948  with n= 8500\n",
      "Accuracy= 0.9134948096885813  with n= 8550\n",
      "Accuracy= 0.9134948096885813  with n= 8600\n",
      "Accuracy= 0.9134948096885813  with n= 8650\n",
      "Accuracy= 0.9134948096885813  with n= 8700\n",
      "Accuracy= 0.916955017301038  with n= 8750\n",
      "Accuracy= 0.9134948096885813  with n= 8800\n",
      "Accuracy= 0.9134948096885813  with n= 8850\n",
      "Accuracy= 0.9100346020761245  with n= 8900\n",
      "Accuracy= 0.9134948096885813  with n= 8950\n",
      "Accuracy= 0.9134948096885813  with n= 9000\n",
      "Accuracy= 0.9204152249134948  with n= 9050\n",
      "Accuracy= 0.9204152249134948  with n= 9100\n",
      "Accuracy= 0.9204152249134948  with n= 9150\n",
      "Accuracy= 0.9204152249134948  with n= 9200\n",
      "Accuracy= 0.916955017301038  with n= 9250\n",
      "Accuracy= 0.9134948096885813  with n= 9300\n",
      "Accuracy= 0.916955017301038  with n= 9350\n",
      "Accuracy= 0.9100346020761245  with n= 9400\n",
      "Accuracy= 0.916955017301038  with n= 9450\n",
      "Accuracy= 0.916955017301038  with n= 9500\n",
      "Accuracy= 0.9100346020761245  with n= 9550\n",
      "Accuracy= 0.9134948096885813  with n= 9600\n",
      "Accuracy= 0.9134948096885813  with n= 9650\n",
      "Accuracy= 0.9134948096885813  with n= 9700\n"
     ]
    },
    {
     "name": "stdout",
     "output_type": "stream",
     "text": [
      "Accuracy= 0.9134948096885813  with n= 9750\n",
      "Accuracy= 0.916955017301038  with n= 9800\n",
      "Accuracy= 0.916955017301038  with n= 9850\n",
      "Accuracy= 0.9134948096885813  with n= 9900\n",
      "Accuracy= 0.9134948096885813  with n= 9950\n"
     ]
    }
   ],
   "source": [
    "for n in np.arange(100,10000,50):\n",
    "    clf=RandomForestClassifier(n_estimators=n)\n",
    "    clf.fit(x_train,y_train)\n",
    "    y_pred=clf.predict(x_test)\n",
    "    acc = metrics.accuracy_score(y_test, y_pred)\n",
    "    print(\"Accuracy=\", acc, \" with n=\", n)"
   ]
  },
  {
   "cell_type": "code",
   "execution_count": null,
   "metadata": {},
   "outputs": [],
   "source": []
  }
 ],
 "metadata": {
  "kernelspec": {
   "display_name": "Python 3",
   "language": "python",
   "name": "python3"
  },
  "language_info": {
   "codemirror_mode": {
    "name": "ipython",
    "version": 3
   },
   "file_extension": ".py",
   "mimetype": "text/x-python",
   "name": "python",
   "nbconvert_exporter": "python",
   "pygments_lexer": "ipython3",
   "version": "3.7.7"
  }
 },
 "nbformat": 4,
 "nbformat_minor": 4
}
