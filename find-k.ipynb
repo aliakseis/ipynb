{
 "cells": [
  {
   "cell_type": "code",
   "execution_count": 1,
   "metadata": {},
   "outputs": [
    {
     "name": "stderr",
     "output_type": "stream",
     "text": [
      "Using TensorFlow backend.\n"
     ]
    },
    {
     "name": "stdout",
     "output_type": "stream",
     "text": [
      "WARNING:tensorflow:From C:\\Users\\Usrer\\Anaconda3\\envs\\tf_gpu\\lib\\site-packages\\tensorflow_core\\python\\ops\\resource_variable_ops.py:1630: calling BaseResourceVariable.__init__ (from tensorflow.python.ops.resource_variable_ops) with constraint is deprecated and will be removed in a future version.\n",
      "Instructions for updating:\n",
      "If using Keras pass *_constraint arguments to layers.\n",
      "WARNING:tensorflow:From C:\\Users\\Usrer\\Anaconda3\\envs\\tf_gpu\\lib\\site-packages\\keras\\backend\\tensorflow_backend.py:4070: The name tf.nn.max_pool is deprecated. Please use tf.nn.max_pool2d instead.\n",
      "\n"
     ]
    }
   ],
   "source": [
    "from keras.applications.resnet50 import ResNet50\n",
    "model = ResNet50(weights='imagenet', include_top=False, input_shape=(224, 224, 3), pooling=\"avg\")"
   ]
  },
  {
   "cell_type": "code",
   "execution_count": 2,
   "metadata": {},
   "outputs": [],
   "source": [
    "%matplotlib inline\n",
    "import matplotlib.pyplot as plt\n",
    "import cv2\n",
    "import numpy as np\n",
    "\n",
    "def get_image(fname, show=False):\n",
    "    img = cv2.cvtColor(cv2.imread(fname), cv2.COLOR_BGR2RGB)\n",
    "    if img is None:\n",
    "         return None\n",
    "    if show:\n",
    "         plt.imshow(img)\n",
    "         plt.axis('off')\n",
    "    img = cv2.resize(img, (224, 224))\n",
    "    #img = np.swapaxes(img, 0, 2)\n",
    "    #img = np.swapaxes(img, 1, 2)\n",
    "    img = img[np.newaxis, :]\n",
    "    \n",
    "    #img = img.astype('float32') / 255.\n",
    "    \n",
    "    return img"
   ]
  },
  {
   "cell_type": "code",
   "execution_count": 3,
   "metadata": {},
   "outputs": [],
   "source": [
    "import glob\n",
    "import os\n",
    "\n",
    "def process_files(folder_name, start_index=0):\n",
    "    \n",
    "    products = []\n",
    "    index = start_index\n",
    "    dim = 2048\n",
    "    xb = np.empty(shape=[0, dim], dtype=np.float32)\n",
    "    \n",
    "    for imgfolderpath in glob.glob(folder_name + '/*'):\n",
    "        productTitle = os.path.basename(imgfolderpath)\n",
    "    \n",
    "        for file in glob.glob(imgfolderpath + '/*'):\n",
    "        #with open(file_name) as file:\n",
    "        #for line in file:\n",
    "            try:\n",
    "                img = get_image(file)\n",
    "                product = {}\n",
    "                #fields = line.split(',')\n",
    "                product['id'] = str(index)\n",
    "                product['productTitle'] = productTitle #fields[0].strip()\n",
    "                product['imageUrl'] = file #fields[1].strip()\n",
    "                # download image to be featurized and preprocess it\n",
    "                #file = mx.test_utils.download(product['imageUrl'])\n",
    "                product['imageFileName'] = file\n",
    "                # extract features\n",
    "\n",
    "                features_batch = model.predict([img])\n",
    "                features = features_batch[0]\n",
    "\n",
    "                # the Knn algorithm we'll use requires float32 rather than the default float64\n",
    "                xb = np.append(xb, [features.astype(np.float32)], axis=0)\n",
    "\n",
    "                products.append(product)\n",
    "                index += 1\n",
    "            except:\n",
    "                print(\"Something went wrong with the file: \" + file)            \n",
    "    return (products, xb)"
   ]
  },
  {
   "cell_type": "code",
   "execution_count": 10,
   "metadata": {},
   "outputs": [],
   "source": [
    "#products, train_features = process_files('/dataset/10classes')\n",
    "products, train_features = process_files('/solutions/transfer-learning-anime/cropped')"
   ]
  },
  {
   "cell_type": "code",
   "execution_count": 5,
   "metadata": {},
   "outputs": [],
   "source": [
    "import sklearn\n",
    "import sklearn.preprocessing"
   ]
  },
  {
   "cell_type": "code",
   "execution_count": 13,
   "metadata": {},
   "outputs": [],
   "source": [
    "train_features = sklearn.preprocessing.normalize(train_features)"
   ]
  },
  {
   "cell_type": "code",
   "execution_count": 14,
   "metadata": {},
   "outputs": [],
   "source": [
    "Y = []\n",
    "for product in products:\n",
    "    Y.append(product['productTitle'])"
   ]
  },
  {
   "cell_type": "code",
   "execution_count": 15,
   "metadata": {},
   "outputs": [
    {
     "name": "stdout",
     "output_type": "stream",
     "text": [
      "Accuracy= 0.9090909090909091  with k= 1\n",
      "Accuracy= 0.9090909090909091  with k= 2\n",
      "Accuracy= 0.9090909090909091  with k= 3\n",
      "Accuracy= 0.9545454545454546  with k= 4\n",
      "Accuracy= 0.9090909090909091  with k= 5\n",
      "Accuracy= 0.9090909090909091  with k= 6\n",
      "Accuracy= 0.9090909090909091  with k= 7\n",
      "Accuracy= 0.9545454545454546  with k= 8\n",
      "Accuracy= 0.9090909090909091  with k= 9\n",
      "Accuracy= 0.9545454545454546  with k= 10\n",
      "Accuracy= 0.9090909090909091  with k= 11\n",
      "Accuracy= 0.9545454545454546  with k= 12\n",
      "Accuracy= 0.9545454545454546  with k= 13\n",
      "Accuracy= 0.9545454545454546  with k= 14\n",
      "Accuracy= 0.9545454545454546  with k= 15\n",
      "Accuracy= 0.9545454545454546  with k= 16\n",
      "Accuracy= 0.9545454545454546  with k= 17\n",
      "Accuracy= 0.9545454545454546  with k= 18\n",
      "Accuracy= 0.9545454545454546  with k= 19\n",
      "Accuracy= 0.9545454545454546  with k= 20\n",
      "Accuracy= 0.9545454545454546  with k= 21\n",
      "Accuracy= 0.9545454545454546  with k= 22\n",
      "Accuracy= 0.9545454545454546  with k= 23\n",
      "Accuracy= 0.9545454545454546  with k= 24\n",
      "Accuracy= 0.9545454545454546  with k= 25\n",
      "Accuracy= 0.9545454545454546  with k= 26\n",
      "Accuracy= 0.9545454545454546  with k= 27\n",
      "Accuracy= 0.9545454545454546  with k= 28\n",
      "Accuracy= 0.9545454545454546  with k= 29\n",
      "Accuracy= 0.9545454545454546  with k= 30\n",
      "Accuracy= 0.9545454545454546  with k= 31\n",
      "Accuracy= 0.9545454545454546  with k= 32\n",
      "Accuracy= 0.9545454545454546  with k= 33\n",
      "Accuracy= 0.9545454545454546  with k= 34\n",
      "Accuracy= 0.9545454545454546  with k= 35\n",
      "Accuracy= 0.9545454545454546  with k= 36\n",
      "Accuracy= 0.9545454545454546  with k= 37\n",
      "Accuracy= 0.9545454545454546  with k= 38\n",
      "Accuracy= 1.0  with k= 39\n",
      "Accuracy= 1.0  with k= 40\n",
      "Accuracy= 0.9545454545454546  with k= 41\n",
      "Accuracy= 0.9545454545454546  with k= 42\n",
      "Accuracy= 0.9545454545454546  with k= 43\n",
      "Accuracy= 0.9545454545454546  with k= 44\n",
      "Accuracy= 0.9545454545454546  with k= 45\n",
      "Accuracy= 0.9545454545454546  with k= 46\n",
      "Accuracy= 0.9545454545454546  with k= 47\n",
      "Accuracy= 0.9545454545454546  with k= 48\n",
      "Accuracy= 0.9090909090909091  with k= 49\n",
      "Accuracy= 0.9090909090909091  with k= 50\n"
     ]
    }
   ],
   "source": [
    "from sklearn import datasets\n",
    "from sklearn.model_selection import train_test_split\n",
    "from sklearn.neighbors import KNeighborsClassifier\n",
    "from sklearn import metrics                \n",
    "\n",
    "\n",
    "x_train, x_test, y_train, y_test = train_test_split(train_features, Y, test_size=0.2, random_state=42)\n",
    "\n",
    "n=50\n",
    "acc_array=np.zeros(n)\n",
    "for k in np.arange(1,n+1,1): # here k will take values from 1 to n\n",
    "    classifier = KNeighborsClassifier(n_neighbors=k,weights='distance').fit(x_train,y_train) # k changes after each iteration\n",
    "    y_pred = classifier.predict(x_test)\n",
    "    acc = metrics.accuracy_score(y_test, y_pred)\n",
    "    acc_array[k-1]=acc # store correctly the results\n",
    "    print(\"Accuracy=\", acc, \" with k=\", k)"
   ]
  },
  {
   "cell_type": "code",
   "execution_count": 16,
   "metadata": {},
   "outputs": [
    {
     "name": "stdout",
     "output_type": "stream",
     "text": [
      "The best accuracy was with  1.0  with k= 39\n"
     ]
    }
   ],
   "source": [
    "max_acc=np.amax(acc_array)\n",
    "acc_list=list(acc_array)\n",
    "k=acc_list.index(max_acc)+1\n",
    "print(\"The best accuracy was with \", max_acc, \" with k=\", k)"
   ]
  },
  {
   "cell_type": "code",
   "execution_count": 10,
   "metadata": {},
   "outputs": [],
   "source": [
    "#########################################"
   ]
  },
  {
   "cell_type": "code",
   "execution_count": 9,
   "metadata": {},
   "outputs": [
    {
     "data": {
      "text/plain": [
       "KNeighborsClassifier(algorithm='auto', leaf_size=30, metric='minkowski',\n",
       "                     metric_params=None, n_jobs=None, n_neighbors=5, p=2,\n",
       "                     weights='distance')"
      ]
     },
     "execution_count": 9,
     "metadata": {},
     "output_type": "execute_result"
    }
   ],
   "source": [
    "neigh = KNeighborsClassifier(n_neighbors=5,weights='distance')\n",
    "neigh.fit(x_train, y_train)"
   ]
  },
  {
   "cell_type": "code",
   "execution_count": 10,
   "metadata": {},
   "outputs": [],
   "source": [
    "proba = neigh.predict_proba(x_test)"
   ]
  },
  {
   "cell_type": "code",
   "execution_count": 21,
   "metadata": {},
   "outputs": [
    {
     "data": {
      "text/plain": [
       "array([0.41428517, 0.        , 0.58571483, 0.        , 0.        ,\n",
       "       0.        , 0.        , 0.        , 0.        , 0.        ])"
      ]
     },
     "execution_count": 21,
     "metadata": {},
     "output_type": "execute_result"
    }
   ],
   "source": [
    "proba[3]"
   ]
  },
  {
   "cell_type": "code",
   "execution_count": 27,
   "metadata": {},
   "outputs": [],
   "source": [
    "import pandas as pd"
   ]
  },
  {
   "cell_type": "code",
   "execution_count": 52,
   "metadata": {
    "scrolled": true
   },
   "outputs": [
    {
     "data": {
      "text/html": [
       "<div>\n",
       "<style scoped>\n",
       "    .dataframe tbody tr th:only-of-type {\n",
       "        vertical-align: middle;\n",
       "    }\n",
       "\n",
       "    .dataframe tbody tr th {\n",
       "        vertical-align: top;\n",
       "    }\n",
       "\n",
       "    .dataframe thead th {\n",
       "        text-align: right;\n",
       "    }\n",
       "</style>\n",
       "<table border=\"1\" class=\"dataframe\">\n",
       "  <thead>\n",
       "    <tr style=\"text-align: right;\">\n",
       "      <th></th>\n",
       "      <th>0</th>\n",
       "      <th>1</th>\n",
       "    </tr>\n",
       "  </thead>\n",
       "  <tbody>\n",
       "    <tr>\n",
       "      <th>2</th>\n",
       "      <td>Bolts</td>\n",
       "      <td>0.585715</td>\n",
       "    </tr>\n",
       "    <tr>\n",
       "      <th>0</th>\n",
       "      <td>Aircrafts</td>\n",
       "      <td>0.414285</td>\n",
       "    </tr>\n",
       "    <tr>\n",
       "      <th>1</th>\n",
       "      <td>Balls</td>\n",
       "      <td>0.000000</td>\n",
       "    </tr>\n",
       "    <tr>\n",
       "      <th>3</th>\n",
       "      <td>Bubbles</td>\n",
       "      <td>0.000000</td>\n",
       "    </tr>\n",
       "    <tr>\n",
       "      <th>4</th>\n",
       "      <td>Crack</td>\n",
       "      <td>0.000000</td>\n",
       "    </tr>\n",
       "    <tr>\n",
       "      <th>5</th>\n",
       "      <td>Crumb</td>\n",
       "      <td>0.000000</td>\n",
       "    </tr>\n",
       "    <tr>\n",
       "      <th>6</th>\n",
       "      <td>Cylinder</td>\n",
       "      <td>0.000000</td>\n",
       "    </tr>\n",
       "    <tr>\n",
       "      <th>7</th>\n",
       "      <td>MarkingLines</td>\n",
       "      <td>0.000000</td>\n",
       "    </tr>\n",
       "    <tr>\n",
       "      <th>8</th>\n",
       "      <td>Nuts</td>\n",
       "      <td>0.000000</td>\n",
       "    </tr>\n",
       "    <tr>\n",
       "      <th>9</th>\n",
       "      <td>Spots</td>\n",
       "      <td>0.000000</td>\n",
       "    </tr>\n",
       "  </tbody>\n",
       "</table>\n",
       "</div>"
      ],
      "text/plain": [
       "              0         1\n",
       "2         Bolts  0.585715\n",
       "0     Aircrafts  0.414285\n",
       "1         Balls  0.000000\n",
       "3       Bubbles  0.000000\n",
       "4         Crack  0.000000\n",
       "5         Crumb  0.000000\n",
       "6      Cylinder  0.000000\n",
       "7  MarkingLines  0.000000\n",
       "8          Nuts  0.000000\n",
       "9         Spots  0.000000"
      ]
     },
     "execution_count": 52,
     "metadata": {},
     "output_type": "execute_result"
    }
   ],
   "source": [
    "#prob = pd.DataFrame(np.column_stack([neigh.classes_, proba[3]]))\n",
    "#prob.sort_values(1,ascending=False,inplace=True)\n",
    "#prob\n",
    "\n",
    "prob = pd.DataFrame(neigh.classes_)\n",
    "prob[1] = proba[3]\n",
    "prob.sort_values(1,ascending=False,inplace=True)\n",
    "prob\n"
   ]
  },
  {
   "cell_type": "code",
   "execution_count": null,
   "metadata": {},
   "outputs": [],
   "source": []
  },
  {
   "cell_type": "code",
   "execution_count": 53,
   "metadata": {},
   "outputs": [
    {
     "data": {
      "text/plain": [
       "[{'human_string': 'Bolts', 'score': 0.5857148264494385},\n",
       " {'human_string': 'Aircrafts', 'score': 0.4142851735505615}]"
      ]
     },
     "execution_count": 53,
     "metadata": {},
     "output_type": "execute_result"
    }
   ],
   "source": [
    "[\n",
    "        {\n",
    "            'human_string': row[0],\n",
    "            'score': row[1],\n",
    "        }\n",
    "        for (_, row) in prob.iterrows() if row[1] > 0\n",
    "]\n"
   ]
  },
  {
   "cell_type": "code",
   "execution_count": null,
   "metadata": {},
   "outputs": [],
   "source": []
  },
  {
   "cell_type": "code",
   "execution_count": null,
   "metadata": {},
   "outputs": [],
   "source": []
  },
  {
   "cell_type": "code",
   "execution_count": null,
   "metadata": {},
   "outputs": [],
   "source": []
  },
  {
   "cell_type": "code",
   "execution_count": null,
   "metadata": {},
   "outputs": [],
   "source": []
  },
  {
   "cell_type": "code",
   "execution_count": null,
   "metadata": {},
   "outputs": [],
   "source": []
  },
  {
   "cell_type": "code",
   "execution_count": 24,
   "metadata": {},
   "outputs": [
    {
     "data": {
      "text/plain": [
       "'Aircrafts'"
      ]
     },
     "execution_count": 24,
     "metadata": {},
     "output_type": "execute_result"
    }
   ],
   "source": [
    "y_test[3]\n"
   ]
  },
  {
   "cell_type": "code",
   "execution_count": null,
   "metadata": {},
   "outputs": [],
   "source": []
  },
  {
   "cell_type": "code",
   "execution_count": null,
   "metadata": {},
   "outputs": [],
   "source": []
  },
  {
   "cell_type": "code",
   "execution_count": 13,
   "metadata": {},
   "outputs": [
    {
     "data": {
      "text/plain": [
       "{'algorithm': 'auto',\n",
       " 'leaf_size': 30,\n",
       " 'metric': 'minkowski',\n",
       " 'metric_params': None,\n",
       " 'n_jobs': None,\n",
       " 'n_neighbors': 5,\n",
       " 'p': 2,\n",
       " 'weights': 'distance'}"
      ]
     },
     "execution_count": 13,
     "metadata": {},
     "output_type": "execute_result"
    }
   ],
   "source": [
    "neigh.get_params()"
   ]
  },
  {
   "cell_type": "code",
   "execution_count": 17,
   "metadata": {},
   "outputs": [
    {
     "data": {
      "text/plain": [
       "array(['Aircrafts', 'Balls', 'Bolts', 'Bubbles', 'Crack', 'Crumb',\n",
       "       'Cylinder', 'MarkingLines', 'Nuts', 'Spots'], dtype='<U12')"
      ]
     },
     "execution_count": 17,
     "metadata": {},
     "output_type": "execute_result"
    }
   ],
   "source": [
    "neigh.classes_"
   ]
  },
  {
   "cell_type": "code",
   "execution_count": null,
   "metadata": {},
   "outputs": [],
   "source": []
  },
  {
   "cell_type": "code",
   "execution_count": 37,
   "metadata": {},
   "outputs": [],
   "source": [
    "pred = neigh.predict(x_test)"
   ]
  },
  {
   "cell_type": "code",
   "execution_count": 38,
   "metadata": {},
   "outputs": [],
   "source": [
    "dict = {}\n",
    "ok = 0\n",
    "for index, v in enumerate(pred):\n",
    "    expected = y_test[index]\n",
    "    if (expected == v):\n",
    "        ok = ok + 1\n",
    "    if expected not in dict:\n",
    "        dict[expected] = {}\n",
    "    if v not in dict[expected]:\n",
    "        dict[expected][v] = 1\n",
    "    else:\n",
    "        dict[expected][v] = dict[expected][v] + 1"
   ]
  },
  {
   "cell_type": "code",
   "execution_count": 39,
   "metadata": {},
   "outputs": [],
   "source": [
    "import pandas as pd\n",
    "\n",
    "dfObj = pd.DataFrame(dict)\n",
    "\n",
    "dfObj = dfObj.reindex(sorted(dfObj.columns), axis=1)\n",
    "\n",
    "# Transpose dataframe object\n",
    "dfObj = dfObj.transpose()\n",
    "\n",
    "dfObj = dfObj.reindex(sorted(dfObj.columns), axis=1)"
   ]
  },
  {
   "cell_type": "code",
   "execution_count": 40,
   "metadata": {},
   "outputs": [
    {
     "data": {
      "image/png": "[encoded data removed]",
      "text/plain": [
       "<Figure size 1440x1080 with 2 Axes>"
      ]
     },
     "metadata": {
      "needs_background": "light"
     },
     "output_type": "display_data"
    }
   ],
   "source": [
    "from matplotlib import pyplot as plt\n",
    "import seaborn as sns\n",
    "fig, ax = plt.subplots(figsize=(20,15))\n",
    "_ = sns.heatmap(dfObj, annot=True, cmap=sns.cubehelix_palette(as_cmap=True), ax=ax, fmt='g')"
   ]
  },
  {
   "cell_type": "code",
   "execution_count": 41,
   "metadata": {},
   "outputs": [],
   "source": [
    "from sklearn.manifold import TSNE\n",
    "tsne = TSNE(n_components=3).fit_transform(train_features)"
   ]
  },
  {
   "cell_type": "code",
   "execution_count": 44,
   "metadata": {},
   "outputs": [],
   "source": [
    "df = pd.DataFrame(products)\n",
    "texts = df[\"imageFileName\"]"
   ]
  },
  {
   "cell_type": "code",
   "execution_count": 45,
   "metadata": {},
   "outputs": [
    {
     "data": {
      "text/plain": [
       "0       /dataset/10classes\\Aircrafts\\00002_011_1_1_000...\n",
       "1       /dataset/10classes\\Aircrafts\\00002_011_1_1_000...\n",
       "2       /dataset/10classes\\Aircrafts\\00002_011_1_1_000...\n",
       "3       /dataset/10classes\\Aircrafts\\00002_011_1_1_000...\n",
       "4       /dataset/10classes\\Aircrafts\\00002_011_3_1_000...\n",
       "                              ...                        \n",
       "1437           /dataset/10classes\\Spots\\Screenshot_94.jpg\n",
       "1438           /dataset/10classes\\Spots\\Screenshot_95.jpg\n",
       "1439           /dataset/10classes\\Spots\\Screenshot_97.jpg\n",
       "1440           /dataset/10classes\\Spots\\Screenshot_98.jpg\n",
       "1441           /dataset/10classes\\Spots\\Screenshot_99.jpg\n",
       "Name: imageFileName, Length: 1442, dtype: object"
      ]
     },
     "execution_count": 45,
     "metadata": {},
     "output_type": "execute_result"
    }
   ],
   "source": [
    "texts"
   ]
  },
  {
   "cell_type": "code",
   "execution_count": 65,
   "metadata": {},
   "outputs": [],
   "source": [
    "#li = li = pd.Categorical(df['productTitle'])\n",
    "li, uniques = pd.factorize(df['productTitle'])"
   ]
  },
  {
   "cell_type": "code",
   "execution_count": 67,
   "metadata": {},
   "outputs": [
    {
     "data": {
      "text/plain": [
       "10"
      ]
     },
     "execution_count": 67,
     "metadata": {},
     "output_type": "execute_result"
    }
   ],
   "source": [
    "len(uniques)"
   ]
  },
  {
   "cell_type": "code",
   "execution_count": 70,
   "metadata": {},
   "outputs": [],
   "source": [
    "li = (li * 99) // (len(uniques) - 1)"
   ]
  },
  {
   "cell_type": "code",
   "execution_count": 71,
   "metadata": {},
   "outputs": [
    {
     "data": {
      "text/plain": [
       "array([ 0,  0,  0, ..., 99, 99, 99], dtype=int64)"
      ]
     },
     "execution_count": 71,
     "metadata": {},
     "output_type": "execute_result"
    }
   ],
   "source": [
    "li"
   ]
  },
  {
   "cell_type": "code",
   "execution_count": 56,
   "metadata": {},
   "outputs": [],
   "source": [
    "import plotly.graph_objs as go"
   ]
  },
  {
   "cell_type": "code",
   "execution_count": 60,
   "metadata": {},
   "outputs": [],
   "source": [
    "del dict"
   ]
  },
  {
   "cell_type": "code",
   "execution_count": 62,
   "metadata": {},
   "outputs": [],
   "source": [
    "from plotly.offline import plot"
   ]
  },
  {
   "cell_type": "code",
   "execution_count": 63,
   "metadata": {},
   "outputs": [
    {
     "data": {
      "text/plain": [
       "'3d-scatter.html'"
      ]
     },
     "execution_count": 63,
     "metadata": {},
     "output_type": "execute_result"
    }
   ],
   "source": [
    "scatter = go.Scatter3d(\n",
    "    x=tsne[:,0],\n",
    "    y=tsne[:,1],\n",
    "    z=tsne[:,2],\n",
    "    mode='markers',\n",
    "    text=texts,\n",
    "    marker=dict(\n",
    "        size=8,\n",
    "        color=li,                # set color to an array/list of desired values\n",
    "        colorscale='Viridis',   # choose a colorscale\n",
    "        opacity=0.8\n",
    "    ))\n",
    "\n",
    "fig = go.Figure(data=[scatter])\n",
    "\n",
    "plot(fig, filename='3d-scatter.html')"
   ]
  },
  {
   "cell_type": "code",
   "execution_count": null,
   "metadata": {},
   "outputs": [],
   "source": []
  }
 ],
 "metadata": {
  "kernelspec": {
   "display_name": "Python 3",
   "language": "python",
   "name": "python3"
  },
  "language_info": {
   "codemirror_mode": {
    "name": "ipython",
    "version": 3
   },
   "file_extension": ".py",
   "mimetype": "text/x-python",
   "name": "python",
   "nbconvert_exporter": "python",
   "pygments_lexer": "ipython3",
   "version": "3.7.7"
  }
 },
 "nbformat": 4,
 "nbformat_minor": 4
}
