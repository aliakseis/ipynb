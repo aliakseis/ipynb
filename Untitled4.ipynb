{
 "cells": [
  {
   "cell_type": "code",
   "execution_count": 18,
   "metadata": {},
   "outputs": [
    {
     "ename": "NameError",
     "evalue": "name 'owlqn' is not defined",
     "output_type": "error",
     "traceback": [
      "\u001b[1;31m---------------------------------------------------------------------------\u001b[0m",
      "\u001b[1;31mNameError\u001b[0m                                 Traceback (most recent call last)",
      "\u001b[1;32m<ipython-input-18-f4d68d984537>\u001b[0m in \u001b[0;36m<module>\u001b[1;34m\u001b[0m\n\u001b[0;32m     66\u001b[0m \u001b[1;33m\u001b[0m\u001b[0m\n\u001b[0;32m     67\u001b[0m         \u001b[1;31m# perform the L1 minimization in memory\u001b[0m\u001b[1;33m\u001b[0m\u001b[1;33m\u001b[0m\u001b[1;33m\u001b[0m\u001b[0m\n\u001b[1;32m---> 68\u001b[1;33m         \u001b[0mXat2\u001b[0m \u001b[1;33m=\u001b[0m \u001b[0mowlqn\u001b[0m\u001b[1;33m(\u001b[0m\u001b[0mnx\u001b[0m\u001b[1;33m*\u001b[0m\u001b[0mny\u001b[0m\u001b[1;33m,\u001b[0m \u001b[0mevaluate\u001b[0m\u001b[1;33m,\u001b[0m \u001b[1;32mNone\u001b[0m\u001b[1;33m,\u001b[0m \u001b[1;36m5\u001b[0m\u001b[1;33m)\u001b[0m\u001b[1;33m\u001b[0m\u001b[1;33m\u001b[0m\u001b[0m\n\u001b[0m\u001b[0;32m     69\u001b[0m \u001b[1;33m\u001b[0m\u001b[0m\n\u001b[0;32m     70\u001b[0m         \u001b[1;31m# transform the output back into the spatial domain\u001b[0m\u001b[1;33m\u001b[0m\u001b[1;33m\u001b[0m\u001b[1;33m\u001b[0m\u001b[0m\n",
      "\u001b[1;31mNameError\u001b[0m: name 'owlqn' is not defined"
     ]
    }
   ],
   "source": [
    "import lbfgs\n",
    "import imageio\n",
    "\n",
    "def evaluate(x, g, step):\n",
    "    \"\"\"An in-memory evaluation callback.\"\"\"\n",
    "\n",
    "    # we want to return two things: \n",
    "    # (1) the norm squared of the residuals, sum((Ax-b).^2), and\n",
    "    # (2) the gradient 2*A'(Ax-b)\n",
    "\n",
    "    # expand x columns-first\n",
    "    x2 = x.reshape((nx, ny)).T\n",
    "\n",
    "    # Ax is just the inverse 2D dct of x2\n",
    "    Ax2 = idct2(x2)\n",
    "\n",
    "    # stack columns and extract samples\n",
    "    Ax = Ax2.T.flat[ri].reshape(b.shape)\n",
    "\n",
    "    # calculate the residual Ax-b and its 2-norm squared\n",
    "    Axb = Ax - b\n",
    "    fx = np.sum(np.power(Axb, 2))\n",
    "\n",
    "    # project residual vector (k x 1) onto blank image (ny x nx)\n",
    "    Axb2 = np.zeros(x2.shape)\n",
    "    Axb2.T.flat[ri] = Axb # fill columns-first\n",
    "\n",
    "    # A'(Ax-b) is just the 2D dct of Axb2\n",
    "    AtAxb2 = 2 * dct2(Axb2)\n",
    "    AtAxb = AtAxb2.T.reshape(x.shape) # stack columns\n",
    "\n",
    "    # copy over the gradient vector\n",
    "    np.copyto(g, AtAxb)\n",
    "\n",
    "    return fx\n",
    "\n",
    "# fractions of the scaled image to randomly sample at\n",
    "sample_sizes = (0.1, 0.01)\n",
    "\n",
    "# read original image\n",
    "Xorig = imageio.imread('./Pictures/3.jpg')\n",
    "ny,nx,nchan = Xorig.shape\n",
    "\n",
    "# for each sample size\n",
    "Z = [np.zeros(Xorig.shape, dtype='uint8') for s in sample_sizes]\n",
    "masks = [np.zeros(Xorig.shape, dtype='uint8') for s in sample_sizes]\n",
    "for i,s in enumerate(sample_sizes):\n",
    "\n",
    "    # create random sampling index vector\n",
    "    k = round(nx * ny * s)\n",
    "    ri = np.random.choice(nx * ny, k, replace=False) # random sample of indices\n",
    "\n",
    "    # for each color channel\n",
    "    for j in range(nchan):\n",
    "\n",
    "        # extract channel\n",
    "        X = Xorig[:,:,j].squeeze()\n",
    "\n",
    "        # create images of mask (for visualization)\n",
    "        Xm = 255 * np.ones(X.shape)\n",
    "        Xm.T.flat[ri] = X.T.flat[ri]\n",
    "        masks[i][:,:,j] = Xm\n",
    "\n",
    "        # take random samples of image, store them in a vector b\n",
    "        b = X.T.flat[ri].astype(float)\n",
    "\n",
    "        # perform the L1 minimization in memory\n",
    "        Xat2 = owlqn(nx*ny, evaluate, None, 5)\n",
    "\n",
    "        # transform the output back into the spatial domain\n",
    "        Xat = Xat2.reshape(nx, ny).T # stack columns\n",
    "        Xa = idct2(Xat)\n",
    "        Z[i][:,:,j] = Xa.astype('uint8')"
   ]
  },
  {
   "cell_type": "code",
   "execution_count": null,
   "metadata": {},
   "outputs": [],
   "source": []
  }
 ],
 "metadata": {
  "kernelspec": {
   "display_name": "Python 3",
   "language": "python",
   "name": "python3"
  },
  "language_info": {
   "codemirror_mode": {
    "name": "ipython",
    "version": 3
   },
   "file_extension": ".py",
   "mimetype": "text/x-python",
   "name": "python",
   "nbconvert_exporter": "python",
   "pygments_lexer": "ipython3",
   "version": "3.7.7"
  }
 },
 "nbformat": 4,
 "nbformat_minor": 4
}
