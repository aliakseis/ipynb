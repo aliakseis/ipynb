{
 "cells": [
  {
   "cell_type": "code",
   "execution_count": 5,
   "metadata": {},
   "outputs": [],
   "source": [
    "import pandas as pd\n",
    "from parse import parse"
   ]
  },
  {
   "cell_type": "code",
   "execution_count": 2,
   "metadata": {},
   "outputs": [
    {
     "name": "stderr",
     "output_type": "stream",
     "text": [
      "  % Total    % Received % Xferd  Average Speed   Time    Time     Time  Current\n",
      "                                 Dload  Upload   Total   Spent    Left  Speed\n",
      "\n",
      "  0     0    0     0    0     0      0      0 --:--:-- --:--:-- --:--:--     0\n",
      "  6 41.2M    6 2751k    0     0  4886k      0  0:00:08 --:--:--  0:00:08 4886k\n",
      " 38 41.2M   38 15.8M    0     0  10.1M      0  0:00:04  0:00:01  0:00:03 10.1M\n",
      " 52 41.2M   52 21.4M    0     0  8575k      0  0:00:04  0:00:02  0:00:02 8575k\n",
      " 68 41.2M   68 28.1M    0     0  8082k      0  0:00:05  0:00:03  0:00:02 8082k\n",
      " 80 41.2M   80 33.2M    0     0  7465k      0  0:00:05  0:00:04  0:00:01 7465k\n",
      " 95 41.2M   95 39.1M    0     0  7206k      0  0:00:05  0:00:05 --:--:-- 7468k\n",
      "100 41.2M  100 41.2M    0     0  7068k      0  0:00:05  0:00:05 --:--:-- 5886k\n"
     ]
    }
   ],
   "source": [
    "!curl -O https://datasets.imdbws.com/title.crew.tsv.gz"
   ]
  },
  {
   "cell_type": "code",
   "execution_count": 3,
   "metadata": {},
   "outputs": [],
   "source": [
    "crew = pd.read_csv(\"title.crew.tsv.gz\" ,compression='gzip', sep='\\t', dtype={\"directors\": str,\"writers\": str}, na_values = '\\\\N' )"
   ]
  },
  {
   "cell_type": "code",
   "execution_count": 4,
   "metadata": {},
   "outputs": [
    {
     "name": "stdout",
     "output_type": "stream",
     "text": [
      "<class 'pandas.core.frame.DataFrame'>\n",
      "RangeIndex: 5977441 entries, 0 to 5977440\n",
      "Data columns (total 3 columns):\n",
      "tconst       object\n",
      "directors    object\n",
      "writers      object\n",
      "dtypes: object(3)\n",
      "memory usage: 136.8+ MB\n"
     ]
    }
   ],
   "source": [
    "crew.info()"
   ]
  },
  {
   "cell_type": "code",
   "execution_count": null,
   "metadata": {},
   "outputs": [],
   "source": []
  }
 ],
 "metadata": {
  "kernelspec": {
   "display_name": "Python 3",
   "language": "python",
   "name": "python3"
  },
  "language_info": {
   "codemirror_mode": {
    "name": "ipython",
    "version": 3
   },
   "file_extension": ".py",
   "mimetype": "text/x-python",
   "name": "python",
   "nbconvert_exporter": "python",
   "pygments_lexer": "ipython3",
   "version": "3.6.8"
  }
 },
 "nbformat": 4,
 "nbformat_minor": 2
}
