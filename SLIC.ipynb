{
 "cells": [
  {
   "cell_type": "code",
   "execution_count": 1,
   "metadata": {},
   "outputs": [],
   "source": [
    "import logging\n",
    "import sys\n",
    "import os\n",
    "\n",
    "import zipfile\n",
    "\n",
    "import importlib\n",
    "\n",
    "from six.moves import urllib\n",
    "from shutil import copy2\n",
    "\n",
    "import matplotlib.pyplot as plt\n",
    "\n",
    "import cv2\n",
    "\n",
    "import numpy as np\n",
    "\n",
    "from skimage.segmentation import slic\n",
    "from skimage.segmentation import mark_boundaries\n",
    "from skimage.util import img_as_float\n",
    "\n",
    "import glob\n",
    "\n",
    "from sklearn.model_selection import train_test_split\n",
    "\n",
    "import pickle"
   ]
  },
  {
   "cell_type": "code",
   "execution_count": 2,
   "metadata": {},
   "outputs": [
    {
     "name": "stderr",
     "output_type": "stream",
     "text": [
      "Using TensorFlow backend.\n",
      "C:\\Users\\Usrer\\Anaconda3\\envs\\tf_gpu\\lib\\site-packages\\tensorflow\\python\\framework\\dtypes.py:516: FutureWarning: Passing (type, 1) or '1type' as a synonym of type is deprecated; in a future version of numpy, it will be understood as (type, (1,)) / '(1,)type'.\n",
      "  _np_qint8 = np.dtype([(\"qint8\", np.int8, 1)])\n",
      "C:\\Users\\Usrer\\Anaconda3\\envs\\tf_gpu\\lib\\site-packages\\tensorflow\\python\\framework\\dtypes.py:517: FutureWarning: Passing (type, 1) or '1type' as a synonym of type is deprecated; in a future version of numpy, it will be understood as (type, (1,)) / '(1,)type'.\n",
      "  _np_quint8 = np.dtype([(\"quint8\", np.uint8, 1)])\n",
      "C:\\Users\\Usrer\\Anaconda3\\envs\\tf_gpu\\lib\\site-packages\\tensorflow\\python\\framework\\dtypes.py:518: FutureWarning: Passing (type, 1) or '1type' as a synonym of type is deprecated; in a future version of numpy, it will be understood as (type, (1,)) / '(1,)type'.\n",
      "  _np_qint16 = np.dtype([(\"qint16\", np.int16, 1)])\n",
      "C:\\Users\\Usrer\\Anaconda3\\envs\\tf_gpu\\lib\\site-packages\\tensorflow\\python\\framework\\dtypes.py:519: FutureWarning: Passing (type, 1) or '1type' as a synonym of type is deprecated; in a future version of numpy, it will be understood as (type, (1,)) / '(1,)type'.\n",
      "  _np_quint16 = np.dtype([(\"quint16\", np.uint16, 1)])\n",
      "C:\\Users\\Usrer\\Anaconda3\\envs\\tf_gpu\\lib\\site-packages\\tensorflow\\python\\framework\\dtypes.py:520: FutureWarning: Passing (type, 1) or '1type' as a synonym of type is deprecated; in a future version of numpy, it will be understood as (type, (1,)) / '(1,)type'.\n",
      "  _np_qint32 = np.dtype([(\"qint32\", np.int32, 1)])\n",
      "C:\\Users\\Usrer\\Anaconda3\\envs\\tf_gpu\\lib\\site-packages\\tensorflow\\python\\framework\\dtypes.py:525: FutureWarning: Passing (type, 1) or '1type' as a synonym of type is deprecated; in a future version of numpy, it will be understood as (type, (1,)) / '(1,)type'.\n",
      "  np_resource = np.dtype([(\"resource\", np.ubyte, 1)])\n",
      "C:\\Users\\Usrer\\Anaconda3\\envs\\tf_gpu\\lib\\site-packages\\tensorboard\\compat\\tensorflow_stub\\dtypes.py:541: FutureWarning: Passing (type, 1) or '1type' as a synonym of type is deprecated; in a future version of numpy, it will be understood as (type, (1,)) / '(1,)type'.\n",
      "  _np_qint8 = np.dtype([(\"qint8\", np.int8, 1)])\n",
      "C:\\Users\\Usrer\\Anaconda3\\envs\\tf_gpu\\lib\\site-packages\\tensorboard\\compat\\tensorflow_stub\\dtypes.py:542: FutureWarning: Passing (type, 1) or '1type' as a synonym of type is deprecated; in a future version of numpy, it will be understood as (type, (1,)) / '(1,)type'.\n",
      "  _np_quint8 = np.dtype([(\"quint8\", np.uint8, 1)])\n",
      "C:\\Users\\Usrer\\Anaconda3\\envs\\tf_gpu\\lib\\site-packages\\tensorboard\\compat\\tensorflow_stub\\dtypes.py:543: FutureWarning: Passing (type, 1) or '1type' as a synonym of type is deprecated; in a future version of numpy, it will be understood as (type, (1,)) / '(1,)type'.\n",
      "  _np_qint16 = np.dtype([(\"qint16\", np.int16, 1)])\n",
      "C:\\Users\\Usrer\\Anaconda3\\envs\\tf_gpu\\lib\\site-packages\\tensorboard\\compat\\tensorflow_stub\\dtypes.py:544: FutureWarning: Passing (type, 1) or '1type' as a synonym of type is deprecated; in a future version of numpy, it will be understood as (type, (1,)) / '(1,)type'.\n",
      "  _np_quint16 = np.dtype([(\"quint16\", np.uint16, 1)])\n",
      "C:\\Users\\Usrer\\Anaconda3\\envs\\tf_gpu\\lib\\site-packages\\tensorboard\\compat\\tensorflow_stub\\dtypes.py:545: FutureWarning: Passing (type, 1) or '1type' as a synonym of type is deprecated; in a future version of numpy, it will be understood as (type, (1,)) / '(1,)type'.\n",
      "  _np_qint32 = np.dtype([(\"qint32\", np.int32, 1)])\n",
      "C:\\Users\\Usrer\\Anaconda3\\envs\\tf_gpu\\lib\\site-packages\\tensorboard\\compat\\tensorflow_stub\\dtypes.py:550: FutureWarning: Passing (type, 1) or '1type' as a synonym of type is deprecated; in a future version of numpy, it will be understood as (type, (1,)) / '(1,)type'.\n",
      "  np_resource = np.dtype([(\"resource\", np.ubyte, 1)])\n"
     ]
    }
   ],
   "source": [
    "from __future__ import print_function\n",
    "\n",
    "import keras\n",
    "from keras.datasets import mnist\n",
    "from keras.models import Sequential\n",
    "from keras.layers import Dense, Dropout, Flatten\n",
    "from keras.layers import Conv2D, MaxPooling2D\n",
    "from keras import backend as K\n",
    "\n",
    "from keras.preprocessing.image import ImageDataGenerator\n",
    "from keras.callbacks import EarlyStopping\n",
    "\n",
    "from keras import regularizers"
   ]
  },
  {
   "cell_type": "code",
   "execution_count": 3,
   "metadata": {},
   "outputs": [],
   "source": [
    "batch_size = 128\n",
    "num_classes = 2\n",
    "epochs = 25\n",
    "\n",
    "# input image dimensions\n",
    "#img_rows, img_cols = 48, 48\n",
    "img_rows, img_cols = 96, 96"
   ]
  },
  {
   "cell_type": "code",
   "execution_count": 4,
   "metadata": {
    "scrolled": true
   },
   "outputs": [],
   "source": [
    "def getData():\n",
    "    all_x = []\n",
    "    all_y = []\n",
    "\n",
    "    for imgfilepath in glob.glob(\"/workspace/dataset/*.jpg\"):\n",
    "        \n",
    "        maskfilepath = os.path.join(\"/workspace/dataset/markup\", os.path.basename(imgfilepath) + \".png\")\n",
    "        \n",
    "        sys.stdout.write('\\r>> Processing %s %s         ' % (imgfilepath, maskfilepath))\n",
    "        sys.stdout.flush()\n",
    "\n",
    "        #names = line.split()\n",
    "\n",
    "        # load the image and apply SLIC and extract (approximately)\n",
    "        image = cv2.imread(imgfilepath)\n",
    "        #image = cv2.resize(image, (1280, 720))\n",
    "        segments = slic(img_as_float(image), n_segments = 200, sigma = 5)\n",
    "\n",
    "        image2 = cv2.imread(maskfilepath)\n",
    "        #image2 = cv2.resize(image2, (1280, 720))\n",
    "        magenta = np.array([1, 1, 1], dtype=np.uint8)\n",
    "\n",
    "        mask2 = np.all(image2 == magenta, axis = -1)\n",
    "        \n",
    "        #plt.figure()\n",
    "        #plt.imshow(image)\n",
    "        #plt.figure()\n",
    "        #plt.imshow(mask2)    \n",
    "\n",
    "        # loop over the unique segment values\n",
    "        for (i, segVal) in enumerate(np.unique(segments)):\n",
    "            # construct a mask for the segment\n",
    "            mask = np.zeros(image.shape[:2], dtype = \"uint8\")\n",
    "            mask[segments == segVal] = 255\n",
    "\n",
    "            m = cv2.moments(mask, True);\n",
    "\n",
    "            x = m[\"m10\"]/m[\"m00\"]\n",
    "            y = m[\"m01\"]/m[\"m00\"]\n",
    "\n",
    "            intersection = np.logical_and(mask, mask2)\n",
    "\n",
    "            img = cv2.bitwise_and(image, image, mask = mask)\n",
    "\n",
    "            #crop\n",
    "            img = img[int(y - img_rows/2) : int(y + img_rows/2), \n",
    "                      int(x - img_cols/2) : int(x + img_cols/2)]\n",
    "\n",
    "            old_size = img.shape[:2]\n",
    "            delta_w = img_cols - old_size[1]#img.cols\n",
    "            delta_h = img_rows - old_size[0]#img.rows\n",
    "            top, bottom = delta_h//2, delta_h-(delta_h//2)\n",
    "            left, right = delta_w//2, delta_w-(delta_w//2)\n",
    "\n",
    "            img = cv2.copyMakeBorder(img, top, bottom, left, right, cv2.BORDER_CONSTANT, value=0)\n",
    "\n",
    "\n",
    "            value = int(np.sum(intersection) > m[\"m00\"] / 2)\n",
    "\n",
    "            all_x.append([img])\n",
    "            all_y.append([value])\n",
    "\n",
    "            #flipHorizontal = cv2.flip(img, 1)\n",
    "            #all_x.append([flipHorizontal])\n",
    "            #all_y.append([value])\n",
    "            \n",
    "            \n",
    "            #break\n",
    "        #break\n",
    "\n",
    "    all_x = np.concatenate(all_x)\n",
    "    all_y = np.concatenate(all_y)\n",
    "\n",
    "    return all_x, all_y"
   ]
  },
  {
   "cell_type": "code",
   "execution_count": 5,
   "metadata": {},
   "outputs": [
    {
     "name": "stdout",
     "output_type": "stream",
     "text": [
      ">> Processing /workspace/dataset\\2.jpg /workspace/dataset/markup\\2.jpg.png         ataset/markup\\192.168.1.64_01_20190521152106867.jpg.png         "
     ]
    }
   ],
   "source": [
    "# the data, split between train and test sets\n",
    "\n",
    "(X, y) = getData()\n",
    "\n",
    "\n",
    "#(x_train, y_train) = getData(train_txt)\n",
    "#(x_test, y_test) = getData(val_txt)"
   ]
  },
  {
   "cell_type": "code",
   "execution_count": 7,
   "metadata": {},
   "outputs": [],
   "source": [
    "with open('x_y_data.pickle', 'wb') as f:\n",
    "    pickle.dump([X, y], f)"
   ]
  },
  {
   "cell_type": "code",
   "execution_count": 4,
   "metadata": {},
   "outputs": [],
   "source": [
    "with open('x_y_data.pickle', 'rb') as f:\n",
    "    X, y = pickle.load(f)"
   ]
  },
  {
   "cell_type": "code",
   "execution_count": 5,
   "metadata": {},
   "outputs": [],
   "source": [
    "x_train, x_test, y_train, y_test = train_test_split(X, y, test_size=0.2, random_state=100)\n"
   ]
  },
  {
   "cell_type": "code",
   "execution_count": 6,
   "metadata": {},
   "outputs": [
    {
     "name": "stdout",
     "output_type": "stream",
     "text": [
      "x_train shape: (67462, 96, 96, 3)\n",
      "y_train shape: (67462,)\n",
      "67462 train samples\n",
      "16866 test samples\n"
     ]
    }
   ],
   "source": [
    "if K.image_data_format() == 'channels_first':\n",
    "    x_train = x_train.reshape(x_train.shape[0], 3, img_rows, img_cols)\n",
    "    x_test = x_test.reshape(x_test.shape[0], 3, img_rows, img_cols)\n",
    "    input_shape = (3, img_rows, img_cols)\n",
    "else:\n",
    "    x_train = x_train.reshape(x_train.shape[0], img_rows, img_cols, 3)\n",
    "    x_test = x_test.reshape(x_test.shape[0], img_rows, img_cols, 3)\n",
    "    input_shape = (img_rows, img_cols, 3)\n",
    "\n",
    "#x_train = x_train.astype('float32')\n",
    "x_test = x_test.astype('float32')\n",
    "#x_train /= 255\n",
    "x_test /= 255\n",
    "print('x_train shape:', x_train.shape)\n",
    "print('y_train shape:', y_train.shape)\n",
    "print(x_train.shape[0], 'train samples')\n",
    "print(x_test.shape[0], 'test samples')\n",
    "\n",
    "# convert class vectors to binary class matrices\n",
    "y_train = keras.utils.to_categorical(y_train, num_classes)\n",
    "y_test = keras.utils.to_categorical(y_test, num_classes)"
   ]
  },
  {
   "cell_type": "code",
   "execution_count": 8,
   "metadata": {},
   "outputs": [
    {
     "name": "stdout",
     "output_type": "stream",
     "text": [
      "Epoch 1/25\n",
      "2698/2698 [==============================] - 786s 291ms/step - loss: 0.3219 - accuracy: 0.9424 - val_loss: 0.2581 - val_accuracy: 0.9329\n",
      "Epoch 2/25\n",
      "2698/2698 [==============================] - 794s 294ms/step - loss: 0.2096 - accuracy: 0.9550 - val_loss: 0.2623 - val_accuracy: 0.9303\n",
      "Epoch 3/25\n",
      "2698/2698 [==============================] - 802s 297ms/step - loss: 0.1992 - accuracy: 0.9563 - val_loss: 0.2340 - val_accuracy: 0.9412\n",
      "Epoch 4/25\n",
      "2698/2698 [==============================] - 817s 303ms/step - loss: 0.1939 - accuracy: 0.9570 - val_loss: 0.4288 - val_accuracy: 0.8626\n",
      "Epoch 5/25\n",
      "2698/2698 [==============================] - 778s 288ms/step - loss: 0.1889 - accuracy: 0.9580 - val_loss: 0.3037 - val_accuracy: 0.9101\n",
      "Epoch 6/25\n",
      "2698/2698 [==============================] - 775s 287ms/step - loss: 0.1876 - accuracy: 0.9586 - val_loss: 0.3141 - val_accuracy: 0.9048\n",
      "Epoch 7/25\n",
      "2698/2698 [==============================] - 795s 295ms/step - loss: 0.1850 - accuracy: 0.9592 - val_loss: 0.6364 - val_accuracy: 0.7538\n",
      "Epoch 8/25\n",
      "2698/2698 [==============================] - 813s 301ms/step - loss: 0.1833 - accuracy: 0.9593 - val_loss: 0.1883 - val_accuracy: 0.9617\n",
      "Epoch 9/25\n",
      "2698/2698 [==============================] - 803s 298ms/step - loss: 0.1824 - accuracy: 0.9596 - val_loss: 0.3048 - val_accuracy: 0.9109\n",
      "Epoch 10/25\n",
      "2698/2698 [==============================] - 788s 292ms/step - loss: 0.1814 - accuracy: 0.9600 - val_loss: 0.3217 - val_accuracy: 0.9016\n",
      "Epoch 11/25\n",
      "2698/2698 [==============================] - 796s 295ms/step - loss: 0.1812 - accuracy: 0.9604 - val_loss: 0.3443 - val_accuracy: 0.8907\n",
      "Epoch 12/25\n",
      "2698/2698 [==============================] - 804s 298ms/step - loss: 0.1797 - accuracy: 0.9603 - val_loss: 0.1889 - val_accuracy: 0.9578\n",
      "Epoch 13/25\n",
      "2698/2698 [==============================] - 806s 299ms/step - loss: 0.1799 - accuracy: 0.9608 - val_loss: 0.2346 - val_accuracy: 0.9354\n",
      "Epoch 14/25\n",
      "2698/2698 [==============================] - 810s 300ms/step - loss: 0.1792 - accuracy: 0.9609 - val_loss: 0.3859 - val_accuracy: 0.8743\n",
      "Epoch 15/25\n",
      "2698/2698 [==============================] - 845s 313ms/step - loss: 0.1794 - accuracy: 0.9610 - val_loss: 0.2047 - val_accuracy: 0.9479\n",
      "Epoch 16/25\n",
      "2698/2698 [==============================] - 836s 310ms/step - loss: 0.1790 - accuracy: 0.9611 - val_loss: 0.3562 - val_accuracy: 0.8851\n",
      "Epoch 17/25\n",
      "2698/2698 [==============================] - 879s 326ms/step - loss: 0.1792 - accuracy: 0.9609 - val_loss: 0.3210 - val_accuracy: 0.9025\n",
      "Epoch 18/25\n",
      "2698/2698 [==============================] - 865s 321ms/step - loss: 0.1794 - accuracy: 0.9608 - val_loss: 0.2345 - val_accuracy: 0.9351\n",
      "Epoch 19/25\n",
      "2698/2698 [==============================] - 846s 313ms/step - loss: 0.1787 - accuracy: 0.9610 - val_loss: 0.1893 - val_accuracy: 0.9577\n",
      "Epoch 20/25\n",
      "2698/2698 [==============================] - 857s 318ms/step - loss: 0.1794 - accuracy: 0.9610 - val_loss: 0.2486 - val_accuracy: 0.9284\n",
      "Epoch 21/25\n",
      "2698/2698 [==============================] - 853s 316ms/step - loss: 0.1784 - accuracy: 0.9609 - val_loss: 0.4341 - val_accuracy: 0.8585\n",
      "Epoch 22/25\n",
      "2698/2698 [==============================] - 835s 309ms/step - loss: 0.1783 - accuracy: 0.9611 - val_loss: 0.2373 - val_accuracy: 0.9348\n",
      "Epoch 23/25\n",
      "2698/2698 [==============================] - 842s 312ms/step - loss: 0.1779 - accuracy: 0.9612 - val_loss: 0.6192 - val_accuracy: 0.7701\n",
      "Epoch 24/25\n",
      "2698/2698 [==============================] - 849s 315ms/step - loss: 0.1772 - accuracy: 0.9617 - val_loss: 0.3664 - val_accuracy: 0.8824\n",
      "Epoch 25/25\n",
      "2698/2698 [==============================] - 853s 316ms/step - loss: 0.1776 - accuracy: 0.9615 - val_loss: 0.1982 - val_accuracy: 0.9526\n",
      "Test loss: 0.19824505528660624\n",
      "Test accuracy: 0.9526265859603882\n"
     ]
    }
   ],
   "source": [
    "l2 = regularizers.l2(0.01)\n",
    "\n",
    "model = Sequential()\n",
    "model.add(Conv2D(32, kernel_size=(3, 3),\n",
    "                 activation='relu',\n",
    "                 input_shape=input_shape,\n",
    "                 kernel_regularizer=l2))\n",
    "model.add(Conv2D(64, (3, 3), activation='relu', kernel_regularizer=l2))\n",
    "model.add(MaxPooling2D(pool_size=(2, 2)))\n",
    "model.add(Dropout(0.25))\n",
    "model.add(Flatten())\n",
    "model.add(Dense(128, activation='relu', kernel_regularizer=l2))\n",
    "model.add(Dropout(0.5))\n",
    "model.add(Dense(num_classes, activation='softmax', kernel_regularizer=l2))\n",
    "\n",
    "model.compile(loss=keras.losses.categorical_crossentropy,\n",
    "              optimizer=keras.optimizers.Adadelta(),\n",
    "              metrics=['accuracy'])\n",
    "\n",
    "#model.fit(x_train, y_train,\n",
    "#          batch_size=batch_size,\n",
    "#          epochs=epochs,\n",
    "#          verbose=1,\n",
    "#          validation_data=(x_test, y_test))\n",
    "\n",
    "# construct the image generator for data augmentation\n",
    "aug = ImageDataGenerator(rotation_range=30, width_shift_range=0.1,\n",
    "        height_shift_range=0.1, shear_range=0.2, zoom_range=0.2,\n",
    "        # must be used with rescale\n",
    "        brightness_range=(0.9,1.1),\n",
    "        rescale = 1./255,\n",
    "        horizontal_flip=True, fill_mode=\"constant\", cval=0)\n",
    "\n",
    "#early_stopping = EarlyStopping(monitor='val_loss', patience=2)\n",
    "\n",
    "# train the network\n",
    "H = model.fit_generator(aug.flow(x_train, y_train, batch_size=batch_size),\n",
    "        validation_data=(x_test, y_test),\n",
    "        steps_per_epoch=len(x_train) // epochs,\n",
    "        epochs=epochs, verbose=1)\n",
    "        #callbacks=[early_stopping])\n",
    "\n",
    "score = model.evaluate(x_test, y_test, verbose=0)\n",
    "print('Test loss:', score[0])\n",
    "print('Test accuracy:', score[1])"
   ]
  },
  {
   "cell_type": "code",
   "execution_count": 9,
   "metadata": {},
   "outputs": [],
   "source": [
    "model.save('my_model.h5')"
   ]
  },
  {
   "cell_type": "code",
   "execution_count": 10,
   "metadata": {
    "scrolled": true
   },
   "outputs": [
    {
     "data": {
      "text/plain": [
       "<matplotlib.legend.Legend at 0x27256dc53c8>"
      ]
     },
     "execution_count": 10,
     "metadata": {},
     "output_type": "execute_result"
    },
    {
     "data": {
      "image/png": "[encoded data removed]",
      "text/plain": [
       "<Figure size 432x288 with 1 Axes>"
      ]
     },
     "metadata": {},
     "output_type": "display_data"
    }
   ],
   "source": [
    "# plot the training loss and accuracy\n",
    "plt.style.use(\"ggplot\")\n",
    "plt.figure()\n",
    "N = epochs\n",
    "plt.plot(np.arange(0, N), H.history[\"loss\"], label=\"train_loss\")\n",
    "plt.plot(np.arange(0, N), H.history[\"val_loss\"], label=\"val_loss\")\n",
    "plt.plot(np.arange(0, N), H.history[\"accuracy\"], label=\"train_acc\")\n",
    "plt.plot(np.arange(0, N), H.history[\"val_accuracy\"], label=\"val_acc\")\n",
    "plt.title(\"Training Loss and Accuracy\")\n",
    "plt.xlabel(\"Epoch #\")\n",
    "plt.ylabel(\"Loss/Accuracy\")\n",
    "plt.legend(loc=\"lower left\")"
   ]
  },
  {
   "cell_type": "code",
   "execution_count": null,
   "metadata": {},
   "outputs": [],
   "source": []
  }
 ],
 "metadata": {
  "kernelspec": {
   "display_name": "Python 3",
   "language": "python",
   "name": "python3"
  },
  "language_info": {
   "codemirror_mode": {
    "name": "ipython",
    "version": 3
   },
   "file_extension": ".py",
   "mimetype": "text/x-python",
   "name": "python",
   "nbconvert_exporter": "python",
   "pygments_lexer": "ipython3",
   "version": "3.7.7"
  }
 },
 "nbformat": 4,
 "nbformat_minor": 4
}
